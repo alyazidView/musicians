{
  "cells": [
    {
      "cell_type": "markdown",
      "source": [
        "# MUSIC GENRE CLASSIFICATION"
      ],
      "metadata": {
        "id": "v6LHR--0BZDf"
      },
      "id": "v6LHR--0BZDf"
    },
    {
      "cell_type": "markdown",
      "source": [
        "Install Required Libraries"
      ],
      "metadata": {
        "id": "Lw-vMma4BJN8"
      },
      "id": "Lw-vMma4BJN8"
    },
    {
      "cell_type": "code",
      "source": [
        "!pip3 install catboost\n",
        "#!pip3 install xgboost"
      ],
      "metadata": {
        "colab": {
          "base_uri": "https://localhost:8080/"
        },
        "id": "p0D2q7jJ3sBX",
        "outputId": "7a886920-72a9-4b0b-d661-4e3bec1ca35e"
      },
      "id": "p0D2q7jJ3sBX",
      "execution_count": null,
      "outputs": [
        {
          "output_type": "stream",
          "name": "stdout",
          "text": [
            "Looking in indexes: https://pypi.org/simple, https://us-python.pkg.dev/colab-wheels/public/simple/\n",
            "Collecting catboost\n",
            "  Downloading catboost-1.1.1-cp37-none-manylinux1_x86_64.whl (76.6 MB)\n",
            "\u001b[K     |████████████████████████████████| 76.6 MB 1.5 MB/s \n",
            "\u001b[?25hRequirement already satisfied: plotly in /usr/local/lib/python3.7/dist-packages (from catboost) (5.5.0)\n",
            "Requirement already satisfied: six in /usr/local/lib/python3.7/dist-packages (from catboost) (1.15.0)\n",
            "Requirement already satisfied: pandas>=0.24.0 in /usr/local/lib/python3.7/dist-packages (from catboost) (1.3.5)\n",
            "Requirement already satisfied: numpy>=1.16.0 in /usr/local/lib/python3.7/dist-packages (from catboost) (1.21.6)\n",
            "Requirement already satisfied: graphviz in /usr/local/lib/python3.7/dist-packages (from catboost) (0.10.1)\n",
            "Requirement already satisfied: scipy in /usr/local/lib/python3.7/dist-packages (from catboost) (1.7.3)\n",
            "Requirement already satisfied: matplotlib in /usr/local/lib/python3.7/dist-packages (from catboost) (3.2.2)\n",
            "Requirement already satisfied: pytz>=2017.3 in /usr/local/lib/python3.7/dist-packages (from pandas>=0.24.0->catboost) (2022.6)\n",
            "Requirement already satisfied: python-dateutil>=2.7.3 in /usr/local/lib/python3.7/dist-packages (from pandas>=0.24.0->catboost) (2.8.2)\n",
            "Requirement already satisfied: cycler>=0.10 in /usr/local/lib/python3.7/dist-packages (from matplotlib->catboost) (0.11.0)\n",
            "Requirement already satisfied: kiwisolver>=1.0.1 in /usr/local/lib/python3.7/dist-packages (from matplotlib->catboost) (1.4.4)\n",
            "Requirement already satisfied: pyparsing!=2.0.4,!=2.1.2,!=2.1.6,>=2.0.1 in /usr/local/lib/python3.7/dist-packages (from matplotlib->catboost) (3.0.9)\n",
            "Requirement already satisfied: typing-extensions in /usr/local/lib/python3.7/dist-packages (from kiwisolver>=1.0.1->matplotlib->catboost) (4.1.1)\n",
            "Requirement already satisfied: tenacity>=6.2.0 in /usr/local/lib/python3.7/dist-packages (from plotly->catboost) (8.1.0)\n",
            "Installing collected packages: catboost\n",
            "Successfully installed catboost-1.1.1\n"
          ]
        }
      ]
    },
    {
      "cell_type": "markdown",
      "source": [
        "Load Libraries"
      ],
      "metadata": {
        "id": "UDKgBnv9BHGK"
      },
      "id": "UDKgBnv9BHGK"
    },
    {
      "cell_type": "code",
      "execution_count": 5,
      "id": "53851b86",
      "metadata": {
        "id": "53851b86"
      },
      "outputs": [],
      "source": [
        "import pandas as pd\n",
        "import matplotlib.pyplot as plt\n",
        "import seaborn as sns \n",
        "import numpy as np\n",
        "import re\n",
        "from sklearn.metrics import confusion_matrix\n",
        "from sklearn.metrics import ConfusionMatrixDisplay\n",
        "from sklearn.decomposition import PCA\n",
        "from sklearn.model_selection import GridSearchCV\n",
        "from sklearn.model_selection import RandomizedSearchCV\n",
        "from sklearn.impute import KNNImputer\n",
        "from sklearn.preprocessing import StandardScaler\n",
        "from sklearn.model_selection import train_test_split\n",
        "from sklearn.model_selection import cross_val_score\n",
        "from sklearn.ensemble import RandomForestClassifier\n",
        "from sklearn.neighbors import KNeighborsClassifier\n",
        "from sklearn.neural_network import MLPClassifier\n",
        "from sklearn.svm import LinearSVC\n",
        "from sklearn.svm import SVC\n",
        "from sklearn.naive_bayes import GaussianNB\n",
        "from sklearn.linear_model import LogisticRegression\n",
        "from sklearn.tree import DecisionTreeClassifier\n",
        "from sklearn.metrics import confusion_matrix,accuracy_score,f1_score,recall_score,precision_score,classification_report"
      ]
    },
    {
      "cell_type": "markdown",
      "source": [
        "Load Dataset"
      ],
      "metadata": {
        "id": "2Mv1NCHPBOLz"
      },
      "id": "2Mv1NCHPBOLz"
    },
    {
      "cell_type": "code",
      "execution_count": 6,
      "id": "1426b283",
      "metadata": {
        "colab": {
          "base_uri": "https://localhost:8080/",
          "height": 444
        },
        "id": "1426b283",
        "outputId": "76bed8cc-e883-43a5-b407-bb50a3a2c74b"
      },
      "outputs": [
        {
          "output_type": "execute_result",
          "data": {
            "text/plain": [
              "             Artist Name                             Track Name  Popularity  \\\n",
              "0             Bruno Mars  That's What I Like (feat. Gucci Mane)        60.0   \n",
              "1                 Boston                           Hitch a Ride        54.0   \n",
              "2          The Raincoats                     No Side to Fall In        35.0   \n",
              "3                   Deno             Lingo (feat. J.I & Chunkz)        66.0   \n",
              "4  Red Hot Chili Peppers      Nobody Weird Like Me - Remastered        53.0   \n",
              "\n",
              "   danceability  energy   key  loudness  mode  speechiness  acousticness  \\\n",
              "0         0.854   0.564   1.0    -4.964     1       0.0485      0.017100   \n",
              "1         0.382   0.814   3.0    -7.230     1       0.0406      0.001100   \n",
              "2         0.434   0.614   6.0    -8.334     1       0.0525      0.486000   \n",
              "3         0.853   0.597  10.0    -6.528     0       0.0555      0.021200   \n",
              "4         0.167   0.975   2.0    -4.279     1       0.2160      0.000169   \n",
              "\n",
              "   instrumentalness  liveness  valence    tempo  duration_in min/ms  \\\n",
              "0               NaN    0.0849   0.8990  134.071            234596.0   \n",
              "1          0.004010    0.1010   0.5690  116.454            251733.0   \n",
              "2          0.000196    0.3940   0.7870  147.681            109667.0   \n",
              "3               NaN    0.1220   0.5690  107.033            173968.0   \n",
              "4          0.016100    0.1720   0.0918  199.060            229960.0   \n",
              "\n",
              "   time_signature  Class  \n",
              "0               4      5  \n",
              "1               4     10  \n",
              "2               4      6  \n",
              "3               4      5  \n",
              "4               4     10  "
            ],
            "text/html": [
              "\n",
              "  <div id=\"df-66c8293a-2c9e-4d6a-b160-77a7cb138b41\">\n",
              "    <div class=\"colab-df-container\">\n",
              "      <div>\n",
              "<style scoped>\n",
              "    .dataframe tbody tr th:only-of-type {\n",
              "        vertical-align: middle;\n",
              "    }\n",
              "\n",
              "    .dataframe tbody tr th {\n",
              "        vertical-align: top;\n",
              "    }\n",
              "\n",
              "    .dataframe thead th {\n",
              "        text-align: right;\n",
              "    }\n",
              "</style>\n",
              "<table border=\"1\" class=\"dataframe\">\n",
              "  <thead>\n",
              "    <tr style=\"text-align: right;\">\n",
              "      <th></th>\n",
              "      <th>Artist Name</th>\n",
              "      <th>Track Name</th>\n",
              "      <th>Popularity</th>\n",
              "      <th>danceability</th>\n",
              "      <th>energy</th>\n",
              "      <th>key</th>\n",
              "      <th>loudness</th>\n",
              "      <th>mode</th>\n",
              "      <th>speechiness</th>\n",
              "      <th>acousticness</th>\n",
              "      <th>instrumentalness</th>\n",
              "      <th>liveness</th>\n",
              "      <th>valence</th>\n",
              "      <th>tempo</th>\n",
              "      <th>duration_in min/ms</th>\n",
              "      <th>time_signature</th>\n",
              "      <th>Class</th>\n",
              "    </tr>\n",
              "  </thead>\n",
              "  <tbody>\n",
              "    <tr>\n",
              "      <th>0</th>\n",
              "      <td>Bruno Mars</td>\n",
              "      <td>That's What I Like (feat. Gucci Mane)</td>\n",
              "      <td>60.0</td>\n",
              "      <td>0.854</td>\n",
              "      <td>0.564</td>\n",
              "      <td>1.0</td>\n",
              "      <td>-4.964</td>\n",
              "      <td>1</td>\n",
              "      <td>0.0485</td>\n",
              "      <td>0.017100</td>\n",
              "      <td>NaN</td>\n",
              "      <td>0.0849</td>\n",
              "      <td>0.8990</td>\n",
              "      <td>134.071</td>\n",
              "      <td>234596.0</td>\n",
              "      <td>4</td>\n",
              "      <td>5</td>\n",
              "    </tr>\n",
              "    <tr>\n",
              "      <th>1</th>\n",
              "      <td>Boston</td>\n",
              "      <td>Hitch a Ride</td>\n",
              "      <td>54.0</td>\n",
              "      <td>0.382</td>\n",
              "      <td>0.814</td>\n",
              "      <td>3.0</td>\n",
              "      <td>-7.230</td>\n",
              "      <td>1</td>\n",
              "      <td>0.0406</td>\n",
              "      <td>0.001100</td>\n",
              "      <td>0.004010</td>\n",
              "      <td>0.1010</td>\n",
              "      <td>0.5690</td>\n",
              "      <td>116.454</td>\n",
              "      <td>251733.0</td>\n",
              "      <td>4</td>\n",
              "      <td>10</td>\n",
              "    </tr>\n",
              "    <tr>\n",
              "      <th>2</th>\n",
              "      <td>The Raincoats</td>\n",
              "      <td>No Side to Fall In</td>\n",
              "      <td>35.0</td>\n",
              "      <td>0.434</td>\n",
              "      <td>0.614</td>\n",
              "      <td>6.0</td>\n",
              "      <td>-8.334</td>\n",
              "      <td>1</td>\n",
              "      <td>0.0525</td>\n",
              "      <td>0.486000</td>\n",
              "      <td>0.000196</td>\n",
              "      <td>0.3940</td>\n",
              "      <td>0.7870</td>\n",
              "      <td>147.681</td>\n",
              "      <td>109667.0</td>\n",
              "      <td>4</td>\n",
              "      <td>6</td>\n",
              "    </tr>\n",
              "    <tr>\n",
              "      <th>3</th>\n",
              "      <td>Deno</td>\n",
              "      <td>Lingo (feat. J.I &amp; Chunkz)</td>\n",
              "      <td>66.0</td>\n",
              "      <td>0.853</td>\n",
              "      <td>0.597</td>\n",
              "      <td>10.0</td>\n",
              "      <td>-6.528</td>\n",
              "      <td>0</td>\n",
              "      <td>0.0555</td>\n",
              "      <td>0.021200</td>\n",
              "      <td>NaN</td>\n",
              "      <td>0.1220</td>\n",
              "      <td>0.5690</td>\n",
              "      <td>107.033</td>\n",
              "      <td>173968.0</td>\n",
              "      <td>4</td>\n",
              "      <td>5</td>\n",
              "    </tr>\n",
              "    <tr>\n",
              "      <th>4</th>\n",
              "      <td>Red Hot Chili Peppers</td>\n",
              "      <td>Nobody Weird Like Me - Remastered</td>\n",
              "      <td>53.0</td>\n",
              "      <td>0.167</td>\n",
              "      <td>0.975</td>\n",
              "      <td>2.0</td>\n",
              "      <td>-4.279</td>\n",
              "      <td>1</td>\n",
              "      <td>0.2160</td>\n",
              "      <td>0.000169</td>\n",
              "      <td>0.016100</td>\n",
              "      <td>0.1720</td>\n",
              "      <td>0.0918</td>\n",
              "      <td>199.060</td>\n",
              "      <td>229960.0</td>\n",
              "      <td>4</td>\n",
              "      <td>10</td>\n",
              "    </tr>\n",
              "  </tbody>\n",
              "</table>\n",
              "</div>\n",
              "      <button class=\"colab-df-convert\" onclick=\"convertToInteractive('df-66c8293a-2c9e-4d6a-b160-77a7cb138b41')\"\n",
              "              title=\"Convert this dataframe to an interactive table.\"\n",
              "              style=\"display:none;\">\n",
              "        \n",
              "  <svg xmlns=\"http://www.w3.org/2000/svg\" height=\"24px\"viewBox=\"0 0 24 24\"\n",
              "       width=\"24px\">\n",
              "    <path d=\"M0 0h24v24H0V0z\" fill=\"none\"/>\n",
              "    <path d=\"M18.56 5.44l.94 2.06.94-2.06 2.06-.94-2.06-.94-.94-2.06-.94 2.06-2.06.94zm-11 1L8.5 8.5l.94-2.06 2.06-.94-2.06-.94L8.5 2.5l-.94 2.06-2.06.94zm10 10l.94 2.06.94-2.06 2.06-.94-2.06-.94-.94-2.06-.94 2.06-2.06.94z\"/><path d=\"M17.41 7.96l-1.37-1.37c-.4-.4-.92-.59-1.43-.59-.52 0-1.04.2-1.43.59L10.3 9.45l-7.72 7.72c-.78.78-.78 2.05 0 2.83L4 21.41c.39.39.9.59 1.41.59.51 0 1.02-.2 1.41-.59l7.78-7.78 2.81-2.81c.8-.78.8-2.07 0-2.86zM5.41 20L4 18.59l7.72-7.72 1.47 1.35L5.41 20z\"/>\n",
              "  </svg>\n",
              "      </button>\n",
              "      \n",
              "  <style>\n",
              "    .colab-df-container {\n",
              "      display:flex;\n",
              "      flex-wrap:wrap;\n",
              "      gap: 12px;\n",
              "    }\n",
              "\n",
              "    .colab-df-convert {\n",
              "      background-color: #E8F0FE;\n",
              "      border: none;\n",
              "      border-radius: 50%;\n",
              "      cursor: pointer;\n",
              "      display: none;\n",
              "      fill: #1967D2;\n",
              "      height: 32px;\n",
              "      padding: 0 0 0 0;\n",
              "      width: 32px;\n",
              "    }\n",
              "\n",
              "    .colab-df-convert:hover {\n",
              "      background-color: #E2EBFA;\n",
              "      box-shadow: 0px 1px 2px rgba(60, 64, 67, 0.3), 0px 1px 3px 1px rgba(60, 64, 67, 0.15);\n",
              "      fill: #174EA6;\n",
              "    }\n",
              "\n",
              "    [theme=dark] .colab-df-convert {\n",
              "      background-color: #3B4455;\n",
              "      fill: #D2E3FC;\n",
              "    }\n",
              "\n",
              "    [theme=dark] .colab-df-convert:hover {\n",
              "      background-color: #434B5C;\n",
              "      box-shadow: 0px 1px 3px 1px rgba(0, 0, 0, 0.15);\n",
              "      filter: drop-shadow(0px 1px 2px rgba(0, 0, 0, 0.3));\n",
              "      fill: #FFFFFF;\n",
              "    }\n",
              "  </style>\n",
              "\n",
              "      <script>\n",
              "        const buttonEl =\n",
              "          document.querySelector('#df-66c8293a-2c9e-4d6a-b160-77a7cb138b41 button.colab-df-convert');\n",
              "        buttonEl.style.display =\n",
              "          google.colab.kernel.accessAllowed ? 'block' : 'none';\n",
              "\n",
              "        async function convertToInteractive(key) {\n",
              "          const element = document.querySelector('#df-66c8293a-2c9e-4d6a-b160-77a7cb138b41');\n",
              "          const dataTable =\n",
              "            await google.colab.kernel.invokeFunction('convertToInteractive',\n",
              "                                                     [key], {});\n",
              "          if (!dataTable) return;\n",
              "\n",
              "          const docLinkHtml = 'Like what you see? Visit the ' +\n",
              "            '<a target=\"_blank\" href=https://colab.research.google.com/notebooks/data_table.ipynb>data table notebook</a>'\n",
              "            + ' to learn more about interactive tables.';\n",
              "          element.innerHTML = '';\n",
              "          dataTable['output_type'] = 'display_data';\n",
              "          await google.colab.output.renderOutput(dataTable, element);\n",
              "          const docLink = document.createElement('div');\n",
              "          docLink.innerHTML = docLinkHtml;\n",
              "          element.appendChild(docLink);\n",
              "        }\n",
              "      </script>\n",
              "    </div>\n",
              "  </div>\n",
              "  "
            ]
          },
          "metadata": {},
          "execution_count": 6
        }
      ],
      "source": [
        "df_music = pd.read_csv(\"train.csv\")\n",
        "df_music.head()"
      ]
    },
    {
      "cell_type": "markdown",
      "source": [
        "Dimensionality of the Dataset"
      ],
      "metadata": {
        "id": "zlxv4B3tEvj1"
      },
      "id": "zlxv4B3tEvj1"
    },
    {
      "cell_type": "code",
      "execution_count": 7,
      "id": "8a66041d",
      "metadata": {
        "colab": {
          "base_uri": "https://localhost:8080/"
        },
        "id": "8a66041d",
        "outputId": "992dd66c-37c6-4604-9bcc-5403c13d68fc"
      },
      "outputs": [
        {
          "output_type": "execute_result",
          "data": {
            "text/plain": [
              "(17996, 17)"
            ]
          },
          "metadata": {},
          "execution_count": 7
        }
      ],
      "source": [
        "df_music.shape"
      ]
    },
    {
      "cell_type": "markdown",
      "source": [
        "Descriptive Statistics of the Attributes"
      ],
      "metadata": {
        "id": "9YFBmrZQBR8t"
      },
      "id": "9YFBmrZQBR8t"
    },
    {
      "cell_type": "code",
      "execution_count": 8,
      "id": "8d5cc1eb",
      "metadata": {
        "colab": {
          "base_uri": "https://localhost:8080/"
        },
        "id": "8d5cc1eb",
        "outputId": "05d23c48-c9b2-46fb-e21e-b8316107c517"
      },
      "outputs": [
        {
          "output_type": "stream",
          "name": "stdout",
          "text": [
            "<class 'pandas.core.frame.DataFrame'>\n",
            "RangeIndex: 17996 entries, 0 to 17995\n",
            "Data columns (total 17 columns):\n",
            " #   Column              Non-Null Count  Dtype  \n",
            "---  ------              --------------  -----  \n",
            " 0   Artist Name         17996 non-null  object \n",
            " 1   Track Name          17996 non-null  object \n",
            " 2   Popularity          17568 non-null  float64\n",
            " 3   danceability        17996 non-null  float64\n",
            " 4   energy              17996 non-null  float64\n",
            " 5   key                 15982 non-null  float64\n",
            " 6   loudness            17996 non-null  float64\n",
            " 7   mode                17996 non-null  int64  \n",
            " 8   speechiness         17996 non-null  float64\n",
            " 9   acousticness        17996 non-null  float64\n",
            " 10  instrumentalness    13619 non-null  float64\n",
            " 11  liveness            17996 non-null  float64\n",
            " 12  valence             17996 non-null  float64\n",
            " 13  tempo               17996 non-null  float64\n",
            " 14  duration_in min/ms  17996 non-null  float64\n",
            " 15  time_signature      17996 non-null  int64  \n",
            " 16  Class               17996 non-null  int64  \n",
            "dtypes: float64(12), int64(3), object(2)\n",
            "memory usage: 2.3+ MB\n"
          ]
        }
      ],
      "source": [
        "df_music.info()"
      ]
    },
    {
      "cell_type": "code",
      "execution_count": 9,
      "id": "ee681654",
      "metadata": {
        "colab": {
          "base_uri": "https://localhost:8080/",
          "height": 382
        },
        "id": "ee681654",
        "outputId": "72403822-c8b5-424b-8286-421f290150be"
      },
      "outputs": [
        {
          "output_type": "execute_result",
          "data": {
            "text/plain": [
              "         Popularity  danceability        energy           key      loudness  \\\n",
              "count  17568.000000  17996.000000  17996.000000  15982.000000  17996.000000   \n",
              "mean      44.512124      0.543433      0.662777      5.952447     -7.910660   \n",
              "std       17.426928      0.166268      0.235373      3.196854      4.049151   \n",
              "min        1.000000      0.059600      0.000020      1.000000    -39.952000   \n",
              "25%       33.000000      0.432000      0.509000      3.000000     -9.538000   \n",
              "50%       44.000000      0.545000      0.700000      6.000000     -7.016000   \n",
              "75%       56.000000      0.659000      0.860000      9.000000     -5.189000   \n",
              "max      100.000000      0.989000      1.000000     11.000000      1.355000   \n",
              "\n",
              "               mode   speechiness  acousticness  instrumentalness  \\\n",
              "count  17996.000000  17996.000000  17996.000000      13619.000000   \n",
              "mean       0.636753      0.079707      0.247082          0.177562   \n",
              "std        0.480949      0.083576      0.310632          0.304048   \n",
              "min        0.000000      0.022500      0.000000          0.000001   \n",
              "25%        0.000000      0.034800      0.004300          0.000089   \n",
              "50%        1.000000      0.047400      0.081400          0.003910   \n",
              "75%        1.000000      0.083000      0.434000          0.200000   \n",
              "max        1.000000      0.955000      0.996000          0.996000   \n",
              "\n",
              "           liveness       valence         tempo  duration_in min/ms  \\\n",
              "count  17996.000000  17996.000000  17996.000000        1.799600e+04   \n",
              "mean       0.196170      0.486208    122.623294        2.007445e+05   \n",
              "std        0.159212      0.240195     29.571527        1.119891e+05   \n",
              "min        0.011900      0.018300     30.557000        5.016500e-01   \n",
              "25%        0.097500      0.297000     99.620750        1.663370e+05   \n",
              "50%        0.129000      0.481000    120.065500        2.091600e+05   \n",
              "75%        0.258000      0.672000    141.969250        2.524900e+05   \n",
              "max        1.000000      0.986000    217.416000        1.477187e+06   \n",
              "\n",
              "       time_signature         Class  \n",
              "count    17996.000000  17996.000000  \n",
              "mean         3.924039      6.695821  \n",
              "std          0.361618      3.206073  \n",
              "min          1.000000      0.000000  \n",
              "25%          4.000000      5.000000  \n",
              "50%          4.000000      8.000000  \n",
              "75%          4.000000     10.000000  \n",
              "max          5.000000     10.000000  "
            ],
            "text/html": [
              "\n",
              "  <div id=\"df-9469e81b-b9d0-4578-a53b-75f4ea7c97ea\">\n",
              "    <div class=\"colab-df-container\">\n",
              "      <div>\n",
              "<style scoped>\n",
              "    .dataframe tbody tr th:only-of-type {\n",
              "        vertical-align: middle;\n",
              "    }\n",
              "\n",
              "    .dataframe tbody tr th {\n",
              "        vertical-align: top;\n",
              "    }\n",
              "\n",
              "    .dataframe thead th {\n",
              "        text-align: right;\n",
              "    }\n",
              "</style>\n",
              "<table border=\"1\" class=\"dataframe\">\n",
              "  <thead>\n",
              "    <tr style=\"text-align: right;\">\n",
              "      <th></th>\n",
              "      <th>Popularity</th>\n",
              "      <th>danceability</th>\n",
              "      <th>energy</th>\n",
              "      <th>key</th>\n",
              "      <th>loudness</th>\n",
              "      <th>mode</th>\n",
              "      <th>speechiness</th>\n",
              "      <th>acousticness</th>\n",
              "      <th>instrumentalness</th>\n",
              "      <th>liveness</th>\n",
              "      <th>valence</th>\n",
              "      <th>tempo</th>\n",
              "      <th>duration_in min/ms</th>\n",
              "      <th>time_signature</th>\n",
              "      <th>Class</th>\n",
              "    </tr>\n",
              "  </thead>\n",
              "  <tbody>\n",
              "    <tr>\n",
              "      <th>count</th>\n",
              "      <td>17568.000000</td>\n",
              "      <td>17996.000000</td>\n",
              "      <td>17996.000000</td>\n",
              "      <td>15982.000000</td>\n",
              "      <td>17996.000000</td>\n",
              "      <td>17996.000000</td>\n",
              "      <td>17996.000000</td>\n",
              "      <td>17996.000000</td>\n",
              "      <td>13619.000000</td>\n",
              "      <td>17996.000000</td>\n",
              "      <td>17996.000000</td>\n",
              "      <td>17996.000000</td>\n",
              "      <td>1.799600e+04</td>\n",
              "      <td>17996.000000</td>\n",
              "      <td>17996.000000</td>\n",
              "    </tr>\n",
              "    <tr>\n",
              "      <th>mean</th>\n",
              "      <td>44.512124</td>\n",
              "      <td>0.543433</td>\n",
              "      <td>0.662777</td>\n",
              "      <td>5.952447</td>\n",
              "      <td>-7.910660</td>\n",
              "      <td>0.636753</td>\n",
              "      <td>0.079707</td>\n",
              "      <td>0.247082</td>\n",
              "      <td>0.177562</td>\n",
              "      <td>0.196170</td>\n",
              "      <td>0.486208</td>\n",
              "      <td>122.623294</td>\n",
              "      <td>2.007445e+05</td>\n",
              "      <td>3.924039</td>\n",
              "      <td>6.695821</td>\n",
              "    </tr>\n",
              "    <tr>\n",
              "      <th>std</th>\n",
              "      <td>17.426928</td>\n",
              "      <td>0.166268</td>\n",
              "      <td>0.235373</td>\n",
              "      <td>3.196854</td>\n",
              "      <td>4.049151</td>\n",
              "      <td>0.480949</td>\n",
              "      <td>0.083576</td>\n",
              "      <td>0.310632</td>\n",
              "      <td>0.304048</td>\n",
              "      <td>0.159212</td>\n",
              "      <td>0.240195</td>\n",
              "      <td>29.571527</td>\n",
              "      <td>1.119891e+05</td>\n",
              "      <td>0.361618</td>\n",
              "      <td>3.206073</td>\n",
              "    </tr>\n",
              "    <tr>\n",
              "      <th>min</th>\n",
              "      <td>1.000000</td>\n",
              "      <td>0.059600</td>\n",
              "      <td>0.000020</td>\n",
              "      <td>1.000000</td>\n",
              "      <td>-39.952000</td>\n",
              "      <td>0.000000</td>\n",
              "      <td>0.022500</td>\n",
              "      <td>0.000000</td>\n",
              "      <td>0.000001</td>\n",
              "      <td>0.011900</td>\n",
              "      <td>0.018300</td>\n",
              "      <td>30.557000</td>\n",
              "      <td>5.016500e-01</td>\n",
              "      <td>1.000000</td>\n",
              "      <td>0.000000</td>\n",
              "    </tr>\n",
              "    <tr>\n",
              "      <th>25%</th>\n",
              "      <td>33.000000</td>\n",
              "      <td>0.432000</td>\n",
              "      <td>0.509000</td>\n",
              "      <td>3.000000</td>\n",
              "      <td>-9.538000</td>\n",
              "      <td>0.000000</td>\n",
              "      <td>0.034800</td>\n",
              "      <td>0.004300</td>\n",
              "      <td>0.000089</td>\n",
              "      <td>0.097500</td>\n",
              "      <td>0.297000</td>\n",
              "      <td>99.620750</td>\n",
              "      <td>1.663370e+05</td>\n",
              "      <td>4.000000</td>\n",
              "      <td>5.000000</td>\n",
              "    </tr>\n",
              "    <tr>\n",
              "      <th>50%</th>\n",
              "      <td>44.000000</td>\n",
              "      <td>0.545000</td>\n",
              "      <td>0.700000</td>\n",
              "      <td>6.000000</td>\n",
              "      <td>-7.016000</td>\n",
              "      <td>1.000000</td>\n",
              "      <td>0.047400</td>\n",
              "      <td>0.081400</td>\n",
              "      <td>0.003910</td>\n",
              "      <td>0.129000</td>\n",
              "      <td>0.481000</td>\n",
              "      <td>120.065500</td>\n",
              "      <td>2.091600e+05</td>\n",
              "      <td>4.000000</td>\n",
              "      <td>8.000000</td>\n",
              "    </tr>\n",
              "    <tr>\n",
              "      <th>75%</th>\n",
              "      <td>56.000000</td>\n",
              "      <td>0.659000</td>\n",
              "      <td>0.860000</td>\n",
              "      <td>9.000000</td>\n",
              "      <td>-5.189000</td>\n",
              "      <td>1.000000</td>\n",
              "      <td>0.083000</td>\n",
              "      <td>0.434000</td>\n",
              "      <td>0.200000</td>\n",
              "      <td>0.258000</td>\n",
              "      <td>0.672000</td>\n",
              "      <td>141.969250</td>\n",
              "      <td>2.524900e+05</td>\n",
              "      <td>4.000000</td>\n",
              "      <td>10.000000</td>\n",
              "    </tr>\n",
              "    <tr>\n",
              "      <th>max</th>\n",
              "      <td>100.000000</td>\n",
              "      <td>0.989000</td>\n",
              "      <td>1.000000</td>\n",
              "      <td>11.000000</td>\n",
              "      <td>1.355000</td>\n",
              "      <td>1.000000</td>\n",
              "      <td>0.955000</td>\n",
              "      <td>0.996000</td>\n",
              "      <td>0.996000</td>\n",
              "      <td>1.000000</td>\n",
              "      <td>0.986000</td>\n",
              "      <td>217.416000</td>\n",
              "      <td>1.477187e+06</td>\n",
              "      <td>5.000000</td>\n",
              "      <td>10.000000</td>\n",
              "    </tr>\n",
              "  </tbody>\n",
              "</table>\n",
              "</div>\n",
              "      <button class=\"colab-df-convert\" onclick=\"convertToInteractive('df-9469e81b-b9d0-4578-a53b-75f4ea7c97ea')\"\n",
              "              title=\"Convert this dataframe to an interactive table.\"\n",
              "              style=\"display:none;\">\n",
              "        \n",
              "  <svg xmlns=\"http://www.w3.org/2000/svg\" height=\"24px\"viewBox=\"0 0 24 24\"\n",
              "       width=\"24px\">\n",
              "    <path d=\"M0 0h24v24H0V0z\" fill=\"none\"/>\n",
              "    <path d=\"M18.56 5.44l.94 2.06.94-2.06 2.06-.94-2.06-.94-.94-2.06-.94 2.06-2.06.94zm-11 1L8.5 8.5l.94-2.06 2.06-.94-2.06-.94L8.5 2.5l-.94 2.06-2.06.94zm10 10l.94 2.06.94-2.06 2.06-.94-2.06-.94-.94-2.06-.94 2.06-2.06.94z\"/><path d=\"M17.41 7.96l-1.37-1.37c-.4-.4-.92-.59-1.43-.59-.52 0-1.04.2-1.43.59L10.3 9.45l-7.72 7.72c-.78.78-.78 2.05 0 2.83L4 21.41c.39.39.9.59 1.41.59.51 0 1.02-.2 1.41-.59l7.78-7.78 2.81-2.81c.8-.78.8-2.07 0-2.86zM5.41 20L4 18.59l7.72-7.72 1.47 1.35L5.41 20z\"/>\n",
              "  </svg>\n",
              "      </button>\n",
              "      \n",
              "  <style>\n",
              "    .colab-df-container {\n",
              "      display:flex;\n",
              "      flex-wrap:wrap;\n",
              "      gap: 12px;\n",
              "    }\n",
              "\n",
              "    .colab-df-convert {\n",
              "      background-color: #E8F0FE;\n",
              "      border: none;\n",
              "      border-radius: 50%;\n",
              "      cursor: pointer;\n",
              "      display: none;\n",
              "      fill: #1967D2;\n",
              "      height: 32px;\n",
              "      padding: 0 0 0 0;\n",
              "      width: 32px;\n",
              "    }\n",
              "\n",
              "    .colab-df-convert:hover {\n",
              "      background-color: #E2EBFA;\n",
              "      box-shadow: 0px 1px 2px rgba(60, 64, 67, 0.3), 0px 1px 3px 1px rgba(60, 64, 67, 0.15);\n",
              "      fill: #174EA6;\n",
              "    }\n",
              "\n",
              "    [theme=dark] .colab-df-convert {\n",
              "      background-color: #3B4455;\n",
              "      fill: #D2E3FC;\n",
              "    }\n",
              "\n",
              "    [theme=dark] .colab-df-convert:hover {\n",
              "      background-color: #434B5C;\n",
              "      box-shadow: 0px 1px 3px 1px rgba(0, 0, 0, 0.15);\n",
              "      filter: drop-shadow(0px 1px 2px rgba(0, 0, 0, 0.3));\n",
              "      fill: #FFFFFF;\n",
              "    }\n",
              "  </style>\n",
              "\n",
              "      <script>\n",
              "        const buttonEl =\n",
              "          document.querySelector('#df-9469e81b-b9d0-4578-a53b-75f4ea7c97ea button.colab-df-convert');\n",
              "        buttonEl.style.display =\n",
              "          google.colab.kernel.accessAllowed ? 'block' : 'none';\n",
              "\n",
              "        async function convertToInteractive(key) {\n",
              "          const element = document.querySelector('#df-9469e81b-b9d0-4578-a53b-75f4ea7c97ea');\n",
              "          const dataTable =\n",
              "            await google.colab.kernel.invokeFunction('convertToInteractive',\n",
              "                                                     [key], {});\n",
              "          if (!dataTable) return;\n",
              "\n",
              "          const docLinkHtml = 'Like what you see? Visit the ' +\n",
              "            '<a target=\"_blank\" href=https://colab.research.google.com/notebooks/data_table.ipynb>data table notebook</a>'\n",
              "            + ' to learn more about interactive tables.';\n",
              "          element.innerHTML = '';\n",
              "          dataTable['output_type'] = 'display_data';\n",
              "          await google.colab.output.renderOutput(dataTable, element);\n",
              "          const docLink = document.createElement('div');\n",
              "          docLink.innerHTML = docLinkHtml;\n",
              "          element.appendChild(docLink);\n",
              "        }\n",
              "      </script>\n",
              "    </div>\n",
              "  </div>\n",
              "  "
            ]
          },
          "metadata": {},
          "execution_count": 9
        }
      ],
      "source": [
        "df_music.describe()"
      ]
    },
    {
      "cell_type": "markdown",
      "source": [
        "## Pre-Processing Dataset"
      ],
      "metadata": {
        "id": "vriCqSlMBUft"
      },
      "id": "vriCqSlMBUft"
    },
    {
      "cell_type": "code",
      "execution_count": 10,
      "id": "a1d23161",
      "metadata": {
        "id": "a1d23161"
      },
      "outputs": [],
      "source": [
        "def clean_text(text):\n",
        "    text = text.lower()\n",
        "    text = re.sub(r'@[a-zA-Z0-9_]+', '', text)   \n",
        "    text = re.sub(r'https?://[A-Za-z0-9./]+', '', text)   \n",
        "    text = re.sub(r'www.[^ ]+', '', text)  \n",
        "    text = re.sub(r'[a-zA-Z0-9]*www[a-zA-Z0-9]*com[a-zA-Z0-9]*', '', text)  \n",
        "    text = re.sub(r'[^a-zA-Z]', ' ', text)   \n",
        "    text = [token for token in text.split() if len(token) > 2]\n",
        "    text = ' '.join(text)\n",
        "    return text\n",
        "\n",
        "df_music['Artist Name'] = df_music['Artist Name'].apply(clean_text)\n",
        "df_music['Track Name'] = df_music['Track Name'].apply(clean_text)"
      ]
    },
    {
      "cell_type": "code",
      "source": [
        "df_music['Artist Name'].head()"
      ],
      "metadata": {
        "colab": {
          "base_uri": "https://localhost:8080/"
        },
        "id": "veM1ytuDqwYH",
        "outputId": "6b7dd959-ae4f-48b8-c14e-49f8e78a49d9"
      },
      "id": "veM1ytuDqwYH",
      "execution_count": 11,
      "outputs": [
        {
          "output_type": "execute_result",
          "data": {
            "text/plain": [
              "0               bruno mars\n",
              "1                   boston\n",
              "2            the raincoats\n",
              "3                     deno\n",
              "4    red hot chili peppers\n",
              "Name: Artist Name, dtype: object"
            ]
          },
          "metadata": {},
          "execution_count": 11
        }
      ]
    },
    {
      "cell_type": "markdown",
      "source": [
        "EDA (Exploratory Data Analysis)"
      ],
      "metadata": {
        "id": "RbifTr7xE785"
      },
      "id": "RbifTr7xE785"
    },
    {
      "cell_type": "code",
      "source": [
        "df_vis=df_music.copy()\n",
        "\n",
        "df_submission=pd.read_csv('submission.csv')\n",
        "df_submission.head()"
      ],
      "metadata": {
        "colab": {
          "base_uri": "https://localhost:8080/",
          "height": 389
        },
        "id": "SehRNVxDVBE1",
        "outputId": "11505b1e-dc64-4c36-d8d0-6ba7118c6748"
      },
      "id": "SehRNVxDVBE1",
      "execution_count": 12,
      "outputs": [
        {
          "output_type": "error",
          "ename": "FileNotFoundError",
          "evalue": "ignored",
          "traceback": [
            "\u001b[0;31m---------------------------------------------------------------------------\u001b[0m",
            "\u001b[0;31mFileNotFoundError\u001b[0m                         Traceback (most recent call last)",
            "\u001b[0;32m<ipython-input-12-8d16faf00809>\u001b[0m in \u001b[0;36m<module>\u001b[0;34m\u001b[0m\n\u001b[1;32m      1\u001b[0m \u001b[0mdf_vis\u001b[0m\u001b[0;34m=\u001b[0m\u001b[0mdf_music\u001b[0m\u001b[0;34m.\u001b[0m\u001b[0mcopy\u001b[0m\u001b[0;34m(\u001b[0m\u001b[0;34m)\u001b[0m\u001b[0;34m\u001b[0m\u001b[0;34m\u001b[0m\u001b[0m\n\u001b[1;32m      2\u001b[0m \u001b[0;34m\u001b[0m\u001b[0m\n\u001b[0;32m----> 3\u001b[0;31m \u001b[0mdf_submission\u001b[0m\u001b[0;34m=\u001b[0m\u001b[0mpd\u001b[0m\u001b[0;34m.\u001b[0m\u001b[0mread_csv\u001b[0m\u001b[0;34m(\u001b[0m\u001b[0;34m'submission.csv'\u001b[0m\u001b[0;34m)\u001b[0m\u001b[0;34m\u001b[0m\u001b[0;34m\u001b[0m\u001b[0m\n\u001b[0m\u001b[1;32m      4\u001b[0m \u001b[0mdf_submission\u001b[0m\u001b[0;34m.\u001b[0m\u001b[0mhead\u001b[0m\u001b[0;34m(\u001b[0m\u001b[0;34m)\u001b[0m\u001b[0;34m\u001b[0m\u001b[0;34m\u001b[0m\u001b[0m\n",
            "\u001b[0;32m/usr/local/lib/python3.7/dist-packages/pandas/util/_decorators.py\u001b[0m in \u001b[0;36mwrapper\u001b[0;34m(*args, **kwargs)\u001b[0m\n\u001b[1;32m    309\u001b[0m                     \u001b[0mstacklevel\u001b[0m\u001b[0;34m=\u001b[0m\u001b[0mstacklevel\u001b[0m\u001b[0;34m,\u001b[0m\u001b[0;34m\u001b[0m\u001b[0;34m\u001b[0m\u001b[0m\n\u001b[1;32m    310\u001b[0m                 )\n\u001b[0;32m--> 311\u001b[0;31m             \u001b[0;32mreturn\u001b[0m \u001b[0mfunc\u001b[0m\u001b[0;34m(\u001b[0m\u001b[0;34m*\u001b[0m\u001b[0margs\u001b[0m\u001b[0;34m,\u001b[0m \u001b[0;34m**\u001b[0m\u001b[0mkwargs\u001b[0m\u001b[0;34m)\u001b[0m\u001b[0;34m\u001b[0m\u001b[0;34m\u001b[0m\u001b[0m\n\u001b[0m\u001b[1;32m    312\u001b[0m \u001b[0;34m\u001b[0m\u001b[0m\n\u001b[1;32m    313\u001b[0m         \u001b[0;32mreturn\u001b[0m \u001b[0mwrapper\u001b[0m\u001b[0;34m\u001b[0m\u001b[0;34m\u001b[0m\u001b[0m\n",
            "\u001b[0;32m/usr/local/lib/python3.7/dist-packages/pandas/io/parsers/readers.py\u001b[0m in \u001b[0;36mread_csv\u001b[0;34m(filepath_or_buffer, sep, delimiter, header, names, index_col, usecols, squeeze, prefix, mangle_dupe_cols, dtype, engine, converters, true_values, false_values, skipinitialspace, skiprows, skipfooter, nrows, na_values, keep_default_na, na_filter, verbose, skip_blank_lines, parse_dates, infer_datetime_format, keep_date_col, date_parser, dayfirst, cache_dates, iterator, chunksize, compression, thousands, decimal, lineterminator, quotechar, quoting, doublequote, escapechar, comment, encoding, encoding_errors, dialect, error_bad_lines, warn_bad_lines, on_bad_lines, delim_whitespace, low_memory, memory_map, float_precision, storage_options)\u001b[0m\n\u001b[1;32m    584\u001b[0m     \u001b[0mkwds\u001b[0m\u001b[0;34m.\u001b[0m\u001b[0mupdate\u001b[0m\u001b[0;34m(\u001b[0m\u001b[0mkwds_defaults\u001b[0m\u001b[0;34m)\u001b[0m\u001b[0;34m\u001b[0m\u001b[0;34m\u001b[0m\u001b[0m\n\u001b[1;32m    585\u001b[0m \u001b[0;34m\u001b[0m\u001b[0m\n\u001b[0;32m--> 586\u001b[0;31m     \u001b[0;32mreturn\u001b[0m \u001b[0m_read\u001b[0m\u001b[0;34m(\u001b[0m\u001b[0mfilepath_or_buffer\u001b[0m\u001b[0;34m,\u001b[0m \u001b[0mkwds\u001b[0m\u001b[0;34m)\u001b[0m\u001b[0;34m\u001b[0m\u001b[0;34m\u001b[0m\u001b[0m\n\u001b[0m\u001b[1;32m    587\u001b[0m \u001b[0;34m\u001b[0m\u001b[0m\n\u001b[1;32m    588\u001b[0m \u001b[0;34m\u001b[0m\u001b[0m\n",
            "\u001b[0;32m/usr/local/lib/python3.7/dist-packages/pandas/io/parsers/readers.py\u001b[0m in \u001b[0;36m_read\u001b[0;34m(filepath_or_buffer, kwds)\u001b[0m\n\u001b[1;32m    480\u001b[0m \u001b[0;34m\u001b[0m\u001b[0m\n\u001b[1;32m    481\u001b[0m     \u001b[0;31m# Create the parser.\u001b[0m\u001b[0;34m\u001b[0m\u001b[0;34m\u001b[0m\u001b[0;34m\u001b[0m\u001b[0m\n\u001b[0;32m--> 482\u001b[0;31m     \u001b[0mparser\u001b[0m \u001b[0;34m=\u001b[0m \u001b[0mTextFileReader\u001b[0m\u001b[0;34m(\u001b[0m\u001b[0mfilepath_or_buffer\u001b[0m\u001b[0;34m,\u001b[0m \u001b[0;34m**\u001b[0m\u001b[0mkwds\u001b[0m\u001b[0;34m)\u001b[0m\u001b[0;34m\u001b[0m\u001b[0;34m\u001b[0m\u001b[0m\n\u001b[0m\u001b[1;32m    483\u001b[0m \u001b[0;34m\u001b[0m\u001b[0m\n\u001b[1;32m    484\u001b[0m     \u001b[0;32mif\u001b[0m \u001b[0mchunksize\u001b[0m \u001b[0;32mor\u001b[0m \u001b[0miterator\u001b[0m\u001b[0;34m:\u001b[0m\u001b[0;34m\u001b[0m\u001b[0;34m\u001b[0m\u001b[0m\n",
            "\u001b[0;32m/usr/local/lib/python3.7/dist-packages/pandas/io/parsers/readers.py\u001b[0m in \u001b[0;36m__init__\u001b[0;34m(self, f, engine, **kwds)\u001b[0m\n\u001b[1;32m    809\u001b[0m             \u001b[0mself\u001b[0m\u001b[0;34m.\u001b[0m\u001b[0moptions\u001b[0m\u001b[0;34m[\u001b[0m\u001b[0;34m\"has_index_names\"\u001b[0m\u001b[0;34m]\u001b[0m \u001b[0;34m=\u001b[0m \u001b[0mkwds\u001b[0m\u001b[0;34m[\u001b[0m\u001b[0;34m\"has_index_names\"\u001b[0m\u001b[0;34m]\u001b[0m\u001b[0;34m\u001b[0m\u001b[0;34m\u001b[0m\u001b[0m\n\u001b[1;32m    810\u001b[0m \u001b[0;34m\u001b[0m\u001b[0m\n\u001b[0;32m--> 811\u001b[0;31m         \u001b[0mself\u001b[0m\u001b[0;34m.\u001b[0m\u001b[0m_engine\u001b[0m \u001b[0;34m=\u001b[0m \u001b[0mself\u001b[0m\u001b[0;34m.\u001b[0m\u001b[0m_make_engine\u001b[0m\u001b[0;34m(\u001b[0m\u001b[0mself\u001b[0m\u001b[0;34m.\u001b[0m\u001b[0mengine\u001b[0m\u001b[0;34m)\u001b[0m\u001b[0;34m\u001b[0m\u001b[0;34m\u001b[0m\u001b[0m\n\u001b[0m\u001b[1;32m    812\u001b[0m \u001b[0;34m\u001b[0m\u001b[0m\n\u001b[1;32m    813\u001b[0m     \u001b[0;32mdef\u001b[0m \u001b[0mclose\u001b[0m\u001b[0;34m(\u001b[0m\u001b[0mself\u001b[0m\u001b[0;34m)\u001b[0m\u001b[0;34m:\u001b[0m\u001b[0;34m\u001b[0m\u001b[0;34m\u001b[0m\u001b[0m\n",
            "\u001b[0;32m/usr/local/lib/python3.7/dist-packages/pandas/io/parsers/readers.py\u001b[0m in \u001b[0;36m_make_engine\u001b[0;34m(self, engine)\u001b[0m\n\u001b[1;32m   1038\u001b[0m             )\n\u001b[1;32m   1039\u001b[0m         \u001b[0;31m# error: Too many arguments for \"ParserBase\"\u001b[0m\u001b[0;34m\u001b[0m\u001b[0;34m\u001b[0m\u001b[0;34m\u001b[0m\u001b[0m\n\u001b[0;32m-> 1040\u001b[0;31m         \u001b[0;32mreturn\u001b[0m \u001b[0mmapping\u001b[0m\u001b[0;34m[\u001b[0m\u001b[0mengine\u001b[0m\u001b[0;34m]\u001b[0m\u001b[0;34m(\u001b[0m\u001b[0mself\u001b[0m\u001b[0;34m.\u001b[0m\u001b[0mf\u001b[0m\u001b[0;34m,\u001b[0m \u001b[0;34m**\u001b[0m\u001b[0mself\u001b[0m\u001b[0;34m.\u001b[0m\u001b[0moptions\u001b[0m\u001b[0;34m)\u001b[0m  \u001b[0;31m# type: ignore[call-arg]\u001b[0m\u001b[0;34m\u001b[0m\u001b[0;34m\u001b[0m\u001b[0m\n\u001b[0m\u001b[1;32m   1041\u001b[0m \u001b[0;34m\u001b[0m\u001b[0m\n\u001b[1;32m   1042\u001b[0m     \u001b[0;32mdef\u001b[0m \u001b[0m_failover_to_python\u001b[0m\u001b[0;34m(\u001b[0m\u001b[0mself\u001b[0m\u001b[0;34m)\u001b[0m\u001b[0;34m:\u001b[0m\u001b[0;34m\u001b[0m\u001b[0;34m\u001b[0m\u001b[0m\n",
            "\u001b[0;32m/usr/local/lib/python3.7/dist-packages/pandas/io/parsers/c_parser_wrapper.py\u001b[0m in \u001b[0;36m__init__\u001b[0;34m(self, src, **kwds)\u001b[0m\n\u001b[1;32m     49\u001b[0m \u001b[0;34m\u001b[0m\u001b[0m\n\u001b[1;32m     50\u001b[0m         \u001b[0;31m# open handles\u001b[0m\u001b[0;34m\u001b[0m\u001b[0;34m\u001b[0m\u001b[0;34m\u001b[0m\u001b[0m\n\u001b[0;32m---> 51\u001b[0;31m         \u001b[0mself\u001b[0m\u001b[0;34m.\u001b[0m\u001b[0m_open_handles\u001b[0m\u001b[0;34m(\u001b[0m\u001b[0msrc\u001b[0m\u001b[0;34m,\u001b[0m \u001b[0mkwds\u001b[0m\u001b[0;34m)\u001b[0m\u001b[0;34m\u001b[0m\u001b[0;34m\u001b[0m\u001b[0m\n\u001b[0m\u001b[1;32m     52\u001b[0m         \u001b[0;32massert\u001b[0m \u001b[0mself\u001b[0m\u001b[0;34m.\u001b[0m\u001b[0mhandles\u001b[0m \u001b[0;32mis\u001b[0m \u001b[0;32mnot\u001b[0m \u001b[0;32mNone\u001b[0m\u001b[0;34m\u001b[0m\u001b[0;34m\u001b[0m\u001b[0m\n\u001b[1;32m     53\u001b[0m \u001b[0;34m\u001b[0m\u001b[0m\n",
            "\u001b[0;32m/usr/local/lib/python3.7/dist-packages/pandas/io/parsers/base_parser.py\u001b[0m in \u001b[0;36m_open_handles\u001b[0;34m(self, src, kwds)\u001b[0m\n\u001b[1;32m    227\u001b[0m             \u001b[0mmemory_map\u001b[0m\u001b[0;34m=\u001b[0m\u001b[0mkwds\u001b[0m\u001b[0;34m.\u001b[0m\u001b[0mget\u001b[0m\u001b[0;34m(\u001b[0m\u001b[0;34m\"memory_map\"\u001b[0m\u001b[0;34m,\u001b[0m \u001b[0;32mFalse\u001b[0m\u001b[0;34m)\u001b[0m\u001b[0;34m,\u001b[0m\u001b[0;34m\u001b[0m\u001b[0;34m\u001b[0m\u001b[0m\n\u001b[1;32m    228\u001b[0m             \u001b[0mstorage_options\u001b[0m\u001b[0;34m=\u001b[0m\u001b[0mkwds\u001b[0m\u001b[0;34m.\u001b[0m\u001b[0mget\u001b[0m\u001b[0;34m(\u001b[0m\u001b[0;34m\"storage_options\"\u001b[0m\u001b[0;34m,\u001b[0m \u001b[0;32mNone\u001b[0m\u001b[0;34m)\u001b[0m\u001b[0;34m,\u001b[0m\u001b[0;34m\u001b[0m\u001b[0;34m\u001b[0m\u001b[0m\n\u001b[0;32m--> 229\u001b[0;31m             \u001b[0merrors\u001b[0m\u001b[0;34m=\u001b[0m\u001b[0mkwds\u001b[0m\u001b[0;34m.\u001b[0m\u001b[0mget\u001b[0m\u001b[0;34m(\u001b[0m\u001b[0;34m\"encoding_errors\"\u001b[0m\u001b[0;34m,\u001b[0m \u001b[0;34m\"strict\"\u001b[0m\u001b[0;34m)\u001b[0m\u001b[0;34m,\u001b[0m\u001b[0;34m\u001b[0m\u001b[0;34m\u001b[0m\u001b[0m\n\u001b[0m\u001b[1;32m    230\u001b[0m         )\n\u001b[1;32m    231\u001b[0m \u001b[0;34m\u001b[0m\u001b[0m\n",
            "\u001b[0;32m/usr/local/lib/python3.7/dist-packages/pandas/io/common.py\u001b[0m in \u001b[0;36mget_handle\u001b[0;34m(path_or_buf, mode, encoding, compression, memory_map, is_text, errors, storage_options)\u001b[0m\n\u001b[1;32m    705\u001b[0m                 \u001b[0mencoding\u001b[0m\u001b[0;34m=\u001b[0m\u001b[0mioargs\u001b[0m\u001b[0;34m.\u001b[0m\u001b[0mencoding\u001b[0m\u001b[0;34m,\u001b[0m\u001b[0;34m\u001b[0m\u001b[0;34m\u001b[0m\u001b[0m\n\u001b[1;32m    706\u001b[0m                 \u001b[0merrors\u001b[0m\u001b[0;34m=\u001b[0m\u001b[0merrors\u001b[0m\u001b[0;34m,\u001b[0m\u001b[0;34m\u001b[0m\u001b[0;34m\u001b[0m\u001b[0m\n\u001b[0;32m--> 707\u001b[0;31m                 \u001b[0mnewline\u001b[0m\u001b[0;34m=\u001b[0m\u001b[0;34m\"\"\u001b[0m\u001b[0;34m,\u001b[0m\u001b[0;34m\u001b[0m\u001b[0;34m\u001b[0m\u001b[0m\n\u001b[0m\u001b[1;32m    708\u001b[0m             )\n\u001b[1;32m    709\u001b[0m         \u001b[0;32melse\u001b[0m\u001b[0;34m:\u001b[0m\u001b[0;34m\u001b[0m\u001b[0;34m\u001b[0m\u001b[0m\n",
            "\u001b[0;31mFileNotFoundError\u001b[0m: [Errno 2] No such file or directory: 'submission.csv'"
          ]
        }
      ]
    },
    {
      "cell_type": "code",
      "execution_count": null,
      "id": "87eabba5",
      "metadata": {
        "colab": {
          "base_uri": "https://localhost:8080/"
        },
        "id": "87eabba5",
        "outputId": "90ec79d1-4ab4-4892-fa96-431c07cd37ed"
      },
      "outputs": [
        {
          "output_type": "execute_result",
          "data": {
            "text/plain": [
              "{0: 'Acoustic/Folk_0',\n",
              " 1: 'Alt_Music_1',\n",
              " 2: 'Blues_2',\n",
              " 3: 'Bollywood_3',\n",
              " 4: 'Country_4',\n",
              " 5: 'HipHop_5',\n",
              " 6: 'Indie Alt_6',\n",
              " 7: 'Instrumental_7',\n",
              " 8: 'Metal_8',\n",
              " 9: 'Pop_9',\n",
              " 10: 'Rock_10'}"
            ]
          },
          "metadata": {},
          "execution_count": 330
        }
      ],
      "source": [
        "classes=df_submission.columns.tolist()\n",
        "class_retrieval={retrieve:n for retrieve,n in enumerate(classes,0)}\n",
        "class_retrieval"
      ]
    },
    {
      "cell_type": "code",
      "source": [
        "#Check the Class Distribution within the Class Attribute\n",
        "df_vis['Class']=df_music.Class.map(class_retrieval)\n",
        "df_vis['Class']\n",
        "#df_vis.Class.value_counts().plot.bar()"
      ],
      "metadata": {
        "colab": {
          "base_uri": "https://localhost:8080/"
        },
        "id": "viFZ2tRDFRSu",
        "outputId": "c20c5e11-5c38-4448-a2ad-55732501c1d5"
      },
      "id": "viFZ2tRDFRSu",
      "execution_count": null,
      "outputs": [
        {
          "output_type": "execute_result",
          "data": {
            "text/plain": [
              "0           HipHop_5\n",
              "1            Rock_10\n",
              "2        Indie Alt_6\n",
              "3           HipHop_5\n",
              "4            Rock_10\n",
              "            ...     \n",
              "17991    Indie Alt_6\n",
              "17992        Blues_2\n",
              "17993        Metal_8\n",
              "17994        Metal_8\n",
              "17995        Rock_10\n",
              "Name: Class, Length: 17996, dtype: object"
            ]
          },
          "metadata": {},
          "execution_count": 331
        }
      ]
    },
    {
      "cell_type": "markdown",
      "source": [
        "Adding Additional Attributes"
      ],
      "metadata": {
        "id": "GtiYmPijE-za"
      },
      "id": "GtiYmPijE-za"
    },
    {
      "cell_type": "code",
      "execution_count": 13,
      "id": "11bc5d8e",
      "metadata": {
        "id": "11bc5d8e"
      },
      "outputs": [],
      "source": [
        "df_music['Artist_Length'] = df_music['Artist Name'].apply(len) \n",
        "df_music['Artist_Char_Count'] = df_music['Artist Name'].str.split().str.len()     \n",
        "df_music['Track_Length'] = df_music['Track Name'].apply(len)   \n",
        "df_music['Track_Char_Count'] = df_music['Track Name'].str.split().str.len() \n",
        "df_music['Track_Digit'] = df_music['Track Name'].str.findall(r'[0-9]').str.len() "
      ]
    },
    {
      "cell_type": "code",
      "source": [
        "df_music['Track_in_min']= df_music['duration_in min/ms']/60000\n",
        "df_music['danceability_by_artist']= df_music.groupby(['Artist Name'])['danceability'].transform('mean')\n",
        "df_music['energy_by_artist']= df_music.groupby(['Artist Name'])['energy'].transform('mean')\n",
        "df_music['loudness_by_artist']= df_music.groupby(['Artist Name'])['loudness'].transform('mean')\n",
        "df_music['acousticness_by_artist']= df_music.groupby(['Artist Name'])['acousticness'].transform('mean')"
      ],
      "metadata": {
        "id": "ktBjlcAordkJ"
      },
      "id": "ktBjlcAordkJ",
      "execution_count": 14,
      "outputs": []
    },
    {
      "cell_type": "code",
      "source": [
        "df_music.sample()"
      ],
      "metadata": {
        "colab": {
          "base_uri": "https://localhost:8080/",
          "height": 244
        },
        "id": "im0uX4BRr7YN",
        "outputId": "a44a469a-51aa-4fbc-e390-e905142574e7"
      },
      "id": "im0uX4BRr7YN",
      "execution_count": 15,
      "outputs": [
        {
          "output_type": "execute_result",
          "data": {
            "text/plain": [
              "     Artist Name          Track Name  Popularity  danceability  energy  key  \\\n",
              "1428   the verve  the drugs don work        64.0         0.442    0.52  NaN   \n",
              "\n",
              "      loudness  mode  speechiness  acousticness  ...  Artist_Length  \\\n",
              "1428    -8.648     1       0.0261         0.184  ...              9   \n",
              "\n",
              "      Artist_Char_Count  Track_Length  Track_Char_Count  Track_Digit  \\\n",
              "1428                  2            18                 4            0   \n",
              "\n",
              "      Track_in_min  danceability_by_artist  energy_by_artist  \\\n",
              "1428      5.081333                0.393333             0.653   \n",
              "\n",
              "      loudness_by_artist  acousticness_by_artist  \n",
              "1428              -7.675                 0.15475  \n",
              "\n",
              "[1 rows x 27 columns]"
            ],
            "text/html": [
              "\n",
              "  <div id=\"df-2d78aa01-75b4-4a35-899c-13e7e0f386b4\">\n",
              "    <div class=\"colab-df-container\">\n",
              "      <div>\n",
              "<style scoped>\n",
              "    .dataframe tbody tr th:only-of-type {\n",
              "        vertical-align: middle;\n",
              "    }\n",
              "\n",
              "    .dataframe tbody tr th {\n",
              "        vertical-align: top;\n",
              "    }\n",
              "\n",
              "    .dataframe thead th {\n",
              "        text-align: right;\n",
              "    }\n",
              "</style>\n",
              "<table border=\"1\" class=\"dataframe\">\n",
              "  <thead>\n",
              "    <tr style=\"text-align: right;\">\n",
              "      <th></th>\n",
              "      <th>Artist Name</th>\n",
              "      <th>Track Name</th>\n",
              "      <th>Popularity</th>\n",
              "      <th>danceability</th>\n",
              "      <th>energy</th>\n",
              "      <th>key</th>\n",
              "      <th>loudness</th>\n",
              "      <th>mode</th>\n",
              "      <th>speechiness</th>\n",
              "      <th>acousticness</th>\n",
              "      <th>...</th>\n",
              "      <th>Artist_Length</th>\n",
              "      <th>Artist_Char_Count</th>\n",
              "      <th>Track_Length</th>\n",
              "      <th>Track_Char_Count</th>\n",
              "      <th>Track_Digit</th>\n",
              "      <th>Track_in_min</th>\n",
              "      <th>danceability_by_artist</th>\n",
              "      <th>energy_by_artist</th>\n",
              "      <th>loudness_by_artist</th>\n",
              "      <th>acousticness_by_artist</th>\n",
              "    </tr>\n",
              "  </thead>\n",
              "  <tbody>\n",
              "    <tr>\n",
              "      <th>1428</th>\n",
              "      <td>the verve</td>\n",
              "      <td>the drugs don work</td>\n",
              "      <td>64.0</td>\n",
              "      <td>0.442</td>\n",
              "      <td>0.52</td>\n",
              "      <td>NaN</td>\n",
              "      <td>-8.648</td>\n",
              "      <td>1</td>\n",
              "      <td>0.0261</td>\n",
              "      <td>0.184</td>\n",
              "      <td>...</td>\n",
              "      <td>9</td>\n",
              "      <td>2</td>\n",
              "      <td>18</td>\n",
              "      <td>4</td>\n",
              "      <td>0</td>\n",
              "      <td>5.081333</td>\n",
              "      <td>0.393333</td>\n",
              "      <td>0.653</td>\n",
              "      <td>-7.675</td>\n",
              "      <td>0.15475</td>\n",
              "    </tr>\n",
              "  </tbody>\n",
              "</table>\n",
              "<p>1 rows × 27 columns</p>\n",
              "</div>\n",
              "      <button class=\"colab-df-convert\" onclick=\"convertToInteractive('df-2d78aa01-75b4-4a35-899c-13e7e0f386b4')\"\n",
              "              title=\"Convert this dataframe to an interactive table.\"\n",
              "              style=\"display:none;\">\n",
              "        \n",
              "  <svg xmlns=\"http://www.w3.org/2000/svg\" height=\"24px\"viewBox=\"0 0 24 24\"\n",
              "       width=\"24px\">\n",
              "    <path d=\"M0 0h24v24H0V0z\" fill=\"none\"/>\n",
              "    <path d=\"M18.56 5.44l.94 2.06.94-2.06 2.06-.94-2.06-.94-.94-2.06-.94 2.06-2.06.94zm-11 1L8.5 8.5l.94-2.06 2.06-.94-2.06-.94L8.5 2.5l-.94 2.06-2.06.94zm10 10l.94 2.06.94-2.06 2.06-.94-2.06-.94-.94-2.06-.94 2.06-2.06.94z\"/><path d=\"M17.41 7.96l-1.37-1.37c-.4-.4-.92-.59-1.43-.59-.52 0-1.04.2-1.43.59L10.3 9.45l-7.72 7.72c-.78.78-.78 2.05 0 2.83L4 21.41c.39.39.9.59 1.41.59.51 0 1.02-.2 1.41-.59l7.78-7.78 2.81-2.81c.8-.78.8-2.07 0-2.86zM5.41 20L4 18.59l7.72-7.72 1.47 1.35L5.41 20z\"/>\n",
              "  </svg>\n",
              "      </button>\n",
              "      \n",
              "  <style>\n",
              "    .colab-df-container {\n",
              "      display:flex;\n",
              "      flex-wrap:wrap;\n",
              "      gap: 12px;\n",
              "    }\n",
              "\n",
              "    .colab-df-convert {\n",
              "      background-color: #E8F0FE;\n",
              "      border: none;\n",
              "      border-radius: 50%;\n",
              "      cursor: pointer;\n",
              "      display: none;\n",
              "      fill: #1967D2;\n",
              "      height: 32px;\n",
              "      padding: 0 0 0 0;\n",
              "      width: 32px;\n",
              "    }\n",
              "\n",
              "    .colab-df-convert:hover {\n",
              "      background-color: #E2EBFA;\n",
              "      box-shadow: 0px 1px 2px rgba(60, 64, 67, 0.3), 0px 1px 3px 1px rgba(60, 64, 67, 0.15);\n",
              "      fill: #174EA6;\n",
              "    }\n",
              "\n",
              "    [theme=dark] .colab-df-convert {\n",
              "      background-color: #3B4455;\n",
              "      fill: #D2E3FC;\n",
              "    }\n",
              "\n",
              "    [theme=dark] .colab-df-convert:hover {\n",
              "      background-color: #434B5C;\n",
              "      box-shadow: 0px 1px 3px 1px rgba(0, 0, 0, 0.15);\n",
              "      filter: drop-shadow(0px 1px 2px rgba(0, 0, 0, 0.3));\n",
              "      fill: #FFFFFF;\n",
              "    }\n",
              "  </style>\n",
              "\n",
              "      <script>\n",
              "        const buttonEl =\n",
              "          document.querySelector('#df-2d78aa01-75b4-4a35-899c-13e7e0f386b4 button.colab-df-convert');\n",
              "        buttonEl.style.display =\n",
              "          google.colab.kernel.accessAllowed ? 'block' : 'none';\n",
              "\n",
              "        async function convertToInteractive(key) {\n",
              "          const element = document.querySelector('#df-2d78aa01-75b4-4a35-899c-13e7e0f386b4');\n",
              "          const dataTable =\n",
              "            await google.colab.kernel.invokeFunction('convertToInteractive',\n",
              "                                                     [key], {});\n",
              "          if (!dataTable) return;\n",
              "\n",
              "          const docLinkHtml = 'Like what you see? Visit the ' +\n",
              "            '<a target=\"_blank\" href=https://colab.research.google.com/notebooks/data_table.ipynb>data table notebook</a>'\n",
              "            + ' to learn more about interactive tables.';\n",
              "          element.innerHTML = '';\n",
              "          dataTable['output_type'] = 'display_data';\n",
              "          await google.colab.output.renderOutput(dataTable, element);\n",
              "          const docLink = document.createElement('div');\n",
              "          docLink.innerHTML = docLinkHtml;\n",
              "          element.appendChild(docLink);\n",
              "        }\n",
              "      </script>\n",
              "    </div>\n",
              "  </div>\n",
              "  "
            ]
          },
          "metadata": {},
          "execution_count": 15
        }
      ]
    },
    {
      "cell_type": "markdown",
      "source": [
        "Encoding the Categorical Attributes"
      ],
      "metadata": {
        "id": "WsWI79uCFHaV"
      },
      "id": "WsWI79uCFHaV"
    },
    {
      "cell_type": "code",
      "execution_count": 16,
      "id": "d7e1798e",
      "metadata": {
        "colab": {
          "base_uri": "https://localhost:8080/",
          "height": 317
        },
        "id": "d7e1798e",
        "outputId": "ef5d000f-a8be-4dee-e410-c7fdc77a7cf0"
      },
      "outputs": [
        {
          "output_type": "execute_result",
          "data": {
            "text/plain": [
              "   Artist Name  Track Name  Popularity  danceability  energy   key  loudness  \\\n",
              "0         1146       10929        60.0         0.854   0.564   1.0    -4.964   \n",
              "1         1040        4977        54.0         0.382   0.814   3.0    -7.230   \n",
              "2         7922        9701        35.0         0.434   0.614   6.0    -8.334   \n",
              "3         1945        6261        66.0         0.853   0.597  10.0    -6.528   \n",
              "4         6266        7614        53.0         0.167   0.975   2.0    -4.279   \n",
              "\n",
              "   mode  speechiness  acousticness  ...  Artist_Length  Artist_Char_Count  \\\n",
              "0     1       0.0485      0.017100  ...             10                  2   \n",
              "1     1       0.0406      0.001100  ...              6                  1   \n",
              "2     1       0.0525      0.486000  ...             13                  2   \n",
              "3     0       0.0555      0.021200  ...              4                  1   \n",
              "4     1       0.2160      0.000169  ...             21                  4   \n",
              "\n",
              "   Track_Length  Track_Char_Count  Track_Digit  Track_in_min  \\\n",
              "0            30                 6            0      3.909933   \n",
              "1            10                 2            0      4.195550   \n",
              "2             9                 2            0      1.827783   \n",
              "3            17                 3            0      2.899467   \n",
              "4            28                 4            0      3.832667   \n",
              "\n",
              "   danceability_by_artist  energy_by_artist  loudness_by_artist  \\\n",
              "0                0.658500           0.71125           -4.994750   \n",
              "1                0.407400           0.70140           -7.300600   \n",
              "2                0.493333           0.77400           -8.291333   \n",
              "3                0.849333           0.66200           -5.996333   \n",
              "4                0.522533           0.86500           -5.837133   \n",
              "\n",
              "   acousticness_by_artist  \n",
              "0                0.219050  \n",
              "1                0.002744  \n",
              "2                0.480667  \n",
              "3                0.094667  \n",
              "4                0.070362  \n",
              "\n",
              "[5 rows x 27 columns]"
            ],
            "text/html": [
              "\n",
              "  <div id=\"df-79c94077-254c-4ce8-b0c1-94077e75ff3b\">\n",
              "    <div class=\"colab-df-container\">\n",
              "      <div>\n",
              "<style scoped>\n",
              "    .dataframe tbody tr th:only-of-type {\n",
              "        vertical-align: middle;\n",
              "    }\n",
              "\n",
              "    .dataframe tbody tr th {\n",
              "        vertical-align: top;\n",
              "    }\n",
              "\n",
              "    .dataframe thead th {\n",
              "        text-align: right;\n",
              "    }\n",
              "</style>\n",
              "<table border=\"1\" class=\"dataframe\">\n",
              "  <thead>\n",
              "    <tr style=\"text-align: right;\">\n",
              "      <th></th>\n",
              "      <th>Artist Name</th>\n",
              "      <th>Track Name</th>\n",
              "      <th>Popularity</th>\n",
              "      <th>danceability</th>\n",
              "      <th>energy</th>\n",
              "      <th>key</th>\n",
              "      <th>loudness</th>\n",
              "      <th>mode</th>\n",
              "      <th>speechiness</th>\n",
              "      <th>acousticness</th>\n",
              "      <th>...</th>\n",
              "      <th>Artist_Length</th>\n",
              "      <th>Artist_Char_Count</th>\n",
              "      <th>Track_Length</th>\n",
              "      <th>Track_Char_Count</th>\n",
              "      <th>Track_Digit</th>\n",
              "      <th>Track_in_min</th>\n",
              "      <th>danceability_by_artist</th>\n",
              "      <th>energy_by_artist</th>\n",
              "      <th>loudness_by_artist</th>\n",
              "      <th>acousticness_by_artist</th>\n",
              "    </tr>\n",
              "  </thead>\n",
              "  <tbody>\n",
              "    <tr>\n",
              "      <th>0</th>\n",
              "      <td>1146</td>\n",
              "      <td>10929</td>\n",
              "      <td>60.0</td>\n",
              "      <td>0.854</td>\n",
              "      <td>0.564</td>\n",
              "      <td>1.0</td>\n",
              "      <td>-4.964</td>\n",
              "      <td>1</td>\n",
              "      <td>0.0485</td>\n",
              "      <td>0.017100</td>\n",
              "      <td>...</td>\n",
              "      <td>10</td>\n",
              "      <td>2</td>\n",
              "      <td>30</td>\n",
              "      <td>6</td>\n",
              "      <td>0</td>\n",
              "      <td>3.909933</td>\n",
              "      <td>0.658500</td>\n",
              "      <td>0.71125</td>\n",
              "      <td>-4.994750</td>\n",
              "      <td>0.219050</td>\n",
              "    </tr>\n",
              "    <tr>\n",
              "      <th>1</th>\n",
              "      <td>1040</td>\n",
              "      <td>4977</td>\n",
              "      <td>54.0</td>\n",
              "      <td>0.382</td>\n",
              "      <td>0.814</td>\n",
              "      <td>3.0</td>\n",
              "      <td>-7.230</td>\n",
              "      <td>1</td>\n",
              "      <td>0.0406</td>\n",
              "      <td>0.001100</td>\n",
              "      <td>...</td>\n",
              "      <td>6</td>\n",
              "      <td>1</td>\n",
              "      <td>10</td>\n",
              "      <td>2</td>\n",
              "      <td>0</td>\n",
              "      <td>4.195550</td>\n",
              "      <td>0.407400</td>\n",
              "      <td>0.70140</td>\n",
              "      <td>-7.300600</td>\n",
              "      <td>0.002744</td>\n",
              "    </tr>\n",
              "    <tr>\n",
              "      <th>2</th>\n",
              "      <td>7922</td>\n",
              "      <td>9701</td>\n",
              "      <td>35.0</td>\n",
              "      <td>0.434</td>\n",
              "      <td>0.614</td>\n",
              "      <td>6.0</td>\n",
              "      <td>-8.334</td>\n",
              "      <td>1</td>\n",
              "      <td>0.0525</td>\n",
              "      <td>0.486000</td>\n",
              "      <td>...</td>\n",
              "      <td>13</td>\n",
              "      <td>2</td>\n",
              "      <td>9</td>\n",
              "      <td>2</td>\n",
              "      <td>0</td>\n",
              "      <td>1.827783</td>\n",
              "      <td>0.493333</td>\n",
              "      <td>0.77400</td>\n",
              "      <td>-8.291333</td>\n",
              "      <td>0.480667</td>\n",
              "    </tr>\n",
              "    <tr>\n",
              "      <th>3</th>\n",
              "      <td>1945</td>\n",
              "      <td>6261</td>\n",
              "      <td>66.0</td>\n",
              "      <td>0.853</td>\n",
              "      <td>0.597</td>\n",
              "      <td>10.0</td>\n",
              "      <td>-6.528</td>\n",
              "      <td>0</td>\n",
              "      <td>0.0555</td>\n",
              "      <td>0.021200</td>\n",
              "      <td>...</td>\n",
              "      <td>4</td>\n",
              "      <td>1</td>\n",
              "      <td>17</td>\n",
              "      <td>3</td>\n",
              "      <td>0</td>\n",
              "      <td>2.899467</td>\n",
              "      <td>0.849333</td>\n",
              "      <td>0.66200</td>\n",
              "      <td>-5.996333</td>\n",
              "      <td>0.094667</td>\n",
              "    </tr>\n",
              "    <tr>\n",
              "      <th>4</th>\n",
              "      <td>6266</td>\n",
              "      <td>7614</td>\n",
              "      <td>53.0</td>\n",
              "      <td>0.167</td>\n",
              "      <td>0.975</td>\n",
              "      <td>2.0</td>\n",
              "      <td>-4.279</td>\n",
              "      <td>1</td>\n",
              "      <td>0.2160</td>\n",
              "      <td>0.000169</td>\n",
              "      <td>...</td>\n",
              "      <td>21</td>\n",
              "      <td>4</td>\n",
              "      <td>28</td>\n",
              "      <td>4</td>\n",
              "      <td>0</td>\n",
              "      <td>3.832667</td>\n",
              "      <td>0.522533</td>\n",
              "      <td>0.86500</td>\n",
              "      <td>-5.837133</td>\n",
              "      <td>0.070362</td>\n",
              "    </tr>\n",
              "  </tbody>\n",
              "</table>\n",
              "<p>5 rows × 27 columns</p>\n",
              "</div>\n",
              "      <button class=\"colab-df-convert\" onclick=\"convertToInteractive('df-79c94077-254c-4ce8-b0c1-94077e75ff3b')\"\n",
              "              title=\"Convert this dataframe to an interactive table.\"\n",
              "              style=\"display:none;\">\n",
              "        \n",
              "  <svg xmlns=\"http://www.w3.org/2000/svg\" height=\"24px\"viewBox=\"0 0 24 24\"\n",
              "       width=\"24px\">\n",
              "    <path d=\"M0 0h24v24H0V0z\" fill=\"none\"/>\n",
              "    <path d=\"M18.56 5.44l.94 2.06.94-2.06 2.06-.94-2.06-.94-.94-2.06-.94 2.06-2.06.94zm-11 1L8.5 8.5l.94-2.06 2.06-.94-2.06-.94L8.5 2.5l-.94 2.06-2.06.94zm10 10l.94 2.06.94-2.06 2.06-.94-2.06-.94-.94-2.06-.94 2.06-2.06.94z\"/><path d=\"M17.41 7.96l-1.37-1.37c-.4-.4-.92-.59-1.43-.59-.52 0-1.04.2-1.43.59L10.3 9.45l-7.72 7.72c-.78.78-.78 2.05 0 2.83L4 21.41c.39.39.9.59 1.41.59.51 0 1.02-.2 1.41-.59l7.78-7.78 2.81-2.81c.8-.78.8-2.07 0-2.86zM5.41 20L4 18.59l7.72-7.72 1.47 1.35L5.41 20z\"/>\n",
              "  </svg>\n",
              "      </button>\n",
              "      \n",
              "  <style>\n",
              "    .colab-df-container {\n",
              "      display:flex;\n",
              "      flex-wrap:wrap;\n",
              "      gap: 12px;\n",
              "    }\n",
              "\n",
              "    .colab-df-convert {\n",
              "      background-color: #E8F0FE;\n",
              "      border: none;\n",
              "      border-radius: 50%;\n",
              "      cursor: pointer;\n",
              "      display: none;\n",
              "      fill: #1967D2;\n",
              "      height: 32px;\n",
              "      padding: 0 0 0 0;\n",
              "      width: 32px;\n",
              "    }\n",
              "\n",
              "    .colab-df-convert:hover {\n",
              "      background-color: #E2EBFA;\n",
              "      box-shadow: 0px 1px 2px rgba(60, 64, 67, 0.3), 0px 1px 3px 1px rgba(60, 64, 67, 0.15);\n",
              "      fill: #174EA6;\n",
              "    }\n",
              "\n",
              "    [theme=dark] .colab-df-convert {\n",
              "      background-color: #3B4455;\n",
              "      fill: #D2E3FC;\n",
              "    }\n",
              "\n",
              "    [theme=dark] .colab-df-convert:hover {\n",
              "      background-color: #434B5C;\n",
              "      box-shadow: 0px 1px 3px 1px rgba(0, 0, 0, 0.15);\n",
              "      filter: drop-shadow(0px 1px 2px rgba(0, 0, 0, 0.3));\n",
              "      fill: #FFFFFF;\n",
              "    }\n",
              "  </style>\n",
              "\n",
              "      <script>\n",
              "        const buttonEl =\n",
              "          document.querySelector('#df-79c94077-254c-4ce8-b0c1-94077e75ff3b button.colab-df-convert');\n",
              "        buttonEl.style.display =\n",
              "          google.colab.kernel.accessAllowed ? 'block' : 'none';\n",
              "\n",
              "        async function convertToInteractive(key) {\n",
              "          const element = document.querySelector('#df-79c94077-254c-4ce8-b0c1-94077e75ff3b');\n",
              "          const dataTable =\n",
              "            await google.colab.kernel.invokeFunction('convertToInteractive',\n",
              "                                                     [key], {});\n",
              "          if (!dataTable) return;\n",
              "\n",
              "          const docLinkHtml = 'Like what you see? Visit the ' +\n",
              "            '<a target=\"_blank\" href=https://colab.research.google.com/notebooks/data_table.ipynb>data table notebook</a>'\n",
              "            + ' to learn more about interactive tables.';\n",
              "          element.innerHTML = '';\n",
              "          dataTable['output_type'] = 'display_data';\n",
              "          await google.colab.output.renderOutput(dataTable, element);\n",
              "          const docLink = document.createElement('div');\n",
              "          docLink.innerHTML = docLinkHtml;\n",
              "          element.appendChild(docLink);\n",
              "        }\n",
              "      </script>\n",
              "    </div>\n",
              "  </div>\n",
              "  "
            ]
          },
          "metadata": {},
          "execution_count": 16
        }
      ],
      "source": [
        "from sklearn.preprocessing import LabelEncoder\n",
        "\n",
        "le = LabelEncoder()\n",
        "\n",
        "df_music['Artist Name'] = le.fit_transform(df_music['Artist Name'])\n",
        "df_music['Track Name'] = le.fit_transform(df_music['Track Name'])\n",
        "df_music.head()"
      ]
    },
    {
      "cell_type": "markdown",
      "source": [
        "Dropping the Uneeded Attributes"
      ],
      "metadata": {
        "id": "DXvHdGt4FShK"
      },
      "id": "DXvHdGt4FShK"
    },
    {
      "cell_type": "code",
      "execution_count": 17,
      "id": "cd28c84d",
      "metadata": {
        "id": "cd28c84d"
      },
      "outputs": [],
      "source": [
        "#df_music.drop(['Artist Name', 'Track Name'], axis=1,inplace=True)\n",
        "#df_music.drop(['instrumentalness'], axis=1,inplace=True)"
      ]
    },
    {
      "cell_type": "markdown",
      "source": [
        "Checking the Missing Values"
      ],
      "metadata": {
        "id": "zII_rzfuFW4I"
      },
      "id": "zII_rzfuFW4I"
    },
    {
      "cell_type": "code",
      "source": [
        "null_values = pd.DataFrame(df_music.isnull().sum(), columns = ['nans']).sort_values('nans', ascending = False)\n",
        "null_values['null values(%)'] = np.round(df_music.isnull().sum() / len(df_music),3) * 100\n",
        "null_values"
      ],
      "metadata": {
        "colab": {
          "base_uri": "https://localhost:8080/",
          "height": 896
        },
        "id": "LiJadi5Apb1C",
        "outputId": "76965cca-44f1-4a7c-e52e-2a0fc8a24436"
      },
      "id": "LiJadi5Apb1C",
      "execution_count": 18,
      "outputs": [
        {
          "output_type": "execute_result",
          "data": {
            "text/plain": [
              "                        nans  null values(%)\n",
              "instrumentalness        4377            24.3\n",
              "key                     2014            11.2\n",
              "Popularity               428             2.4\n",
              "Artist Name                0             0.0\n",
              "time_signature             0             0.0\n",
              "loudness_by_artist         0             0.0\n",
              "energy_by_artist           0             0.0\n",
              "danceability_by_artist     0             0.0\n",
              "Track_in_min               0             0.0\n",
              "Track_Digit                0             0.0\n",
              "Track_Char_Count           0             0.0\n",
              "Track_Length               0             0.0\n",
              "Artist_Char_Count          0             0.0\n",
              "Artist_Length              0             0.0\n",
              "Class                      0             0.0\n",
              "tempo                      0             0.0\n",
              "duration_in min/ms         0             0.0\n",
              "Track Name                 0             0.0\n",
              "valence                    0             0.0\n",
              "liveness                   0             0.0\n",
              "acousticness               0             0.0\n",
              "speechiness                0             0.0\n",
              "mode                       0             0.0\n",
              "loudness                   0             0.0\n",
              "energy                     0             0.0\n",
              "danceability               0             0.0\n",
              "acousticness_by_artist     0             0.0"
            ],
            "text/html": [
              "\n",
              "  <div id=\"df-f8b473a2-feea-4089-8f1f-196ffded576b\">\n",
              "    <div class=\"colab-df-container\">\n",
              "      <div>\n",
              "<style scoped>\n",
              "    .dataframe tbody tr th:only-of-type {\n",
              "        vertical-align: middle;\n",
              "    }\n",
              "\n",
              "    .dataframe tbody tr th {\n",
              "        vertical-align: top;\n",
              "    }\n",
              "\n",
              "    .dataframe thead th {\n",
              "        text-align: right;\n",
              "    }\n",
              "</style>\n",
              "<table border=\"1\" class=\"dataframe\">\n",
              "  <thead>\n",
              "    <tr style=\"text-align: right;\">\n",
              "      <th></th>\n",
              "      <th>nans</th>\n",
              "      <th>null values(%)</th>\n",
              "    </tr>\n",
              "  </thead>\n",
              "  <tbody>\n",
              "    <tr>\n",
              "      <th>instrumentalness</th>\n",
              "      <td>4377</td>\n",
              "      <td>24.3</td>\n",
              "    </tr>\n",
              "    <tr>\n",
              "      <th>key</th>\n",
              "      <td>2014</td>\n",
              "      <td>11.2</td>\n",
              "    </tr>\n",
              "    <tr>\n",
              "      <th>Popularity</th>\n",
              "      <td>428</td>\n",
              "      <td>2.4</td>\n",
              "    </tr>\n",
              "    <tr>\n",
              "      <th>Artist Name</th>\n",
              "      <td>0</td>\n",
              "      <td>0.0</td>\n",
              "    </tr>\n",
              "    <tr>\n",
              "      <th>time_signature</th>\n",
              "      <td>0</td>\n",
              "      <td>0.0</td>\n",
              "    </tr>\n",
              "    <tr>\n",
              "      <th>loudness_by_artist</th>\n",
              "      <td>0</td>\n",
              "      <td>0.0</td>\n",
              "    </tr>\n",
              "    <tr>\n",
              "      <th>energy_by_artist</th>\n",
              "      <td>0</td>\n",
              "      <td>0.0</td>\n",
              "    </tr>\n",
              "    <tr>\n",
              "      <th>danceability_by_artist</th>\n",
              "      <td>0</td>\n",
              "      <td>0.0</td>\n",
              "    </tr>\n",
              "    <tr>\n",
              "      <th>Track_in_min</th>\n",
              "      <td>0</td>\n",
              "      <td>0.0</td>\n",
              "    </tr>\n",
              "    <tr>\n",
              "      <th>Track_Digit</th>\n",
              "      <td>0</td>\n",
              "      <td>0.0</td>\n",
              "    </tr>\n",
              "    <tr>\n",
              "      <th>Track_Char_Count</th>\n",
              "      <td>0</td>\n",
              "      <td>0.0</td>\n",
              "    </tr>\n",
              "    <tr>\n",
              "      <th>Track_Length</th>\n",
              "      <td>0</td>\n",
              "      <td>0.0</td>\n",
              "    </tr>\n",
              "    <tr>\n",
              "      <th>Artist_Char_Count</th>\n",
              "      <td>0</td>\n",
              "      <td>0.0</td>\n",
              "    </tr>\n",
              "    <tr>\n",
              "      <th>Artist_Length</th>\n",
              "      <td>0</td>\n",
              "      <td>0.0</td>\n",
              "    </tr>\n",
              "    <tr>\n",
              "      <th>Class</th>\n",
              "      <td>0</td>\n",
              "      <td>0.0</td>\n",
              "    </tr>\n",
              "    <tr>\n",
              "      <th>tempo</th>\n",
              "      <td>0</td>\n",
              "      <td>0.0</td>\n",
              "    </tr>\n",
              "    <tr>\n",
              "      <th>duration_in min/ms</th>\n",
              "      <td>0</td>\n",
              "      <td>0.0</td>\n",
              "    </tr>\n",
              "    <tr>\n",
              "      <th>Track Name</th>\n",
              "      <td>0</td>\n",
              "      <td>0.0</td>\n",
              "    </tr>\n",
              "    <tr>\n",
              "      <th>valence</th>\n",
              "      <td>0</td>\n",
              "      <td>0.0</td>\n",
              "    </tr>\n",
              "    <tr>\n",
              "      <th>liveness</th>\n",
              "      <td>0</td>\n",
              "      <td>0.0</td>\n",
              "    </tr>\n",
              "    <tr>\n",
              "      <th>acousticness</th>\n",
              "      <td>0</td>\n",
              "      <td>0.0</td>\n",
              "    </tr>\n",
              "    <tr>\n",
              "      <th>speechiness</th>\n",
              "      <td>0</td>\n",
              "      <td>0.0</td>\n",
              "    </tr>\n",
              "    <tr>\n",
              "      <th>mode</th>\n",
              "      <td>0</td>\n",
              "      <td>0.0</td>\n",
              "    </tr>\n",
              "    <tr>\n",
              "      <th>loudness</th>\n",
              "      <td>0</td>\n",
              "      <td>0.0</td>\n",
              "    </tr>\n",
              "    <tr>\n",
              "      <th>energy</th>\n",
              "      <td>0</td>\n",
              "      <td>0.0</td>\n",
              "    </tr>\n",
              "    <tr>\n",
              "      <th>danceability</th>\n",
              "      <td>0</td>\n",
              "      <td>0.0</td>\n",
              "    </tr>\n",
              "    <tr>\n",
              "      <th>acousticness_by_artist</th>\n",
              "      <td>0</td>\n",
              "      <td>0.0</td>\n",
              "    </tr>\n",
              "  </tbody>\n",
              "</table>\n",
              "</div>\n",
              "      <button class=\"colab-df-convert\" onclick=\"convertToInteractive('df-f8b473a2-feea-4089-8f1f-196ffded576b')\"\n",
              "              title=\"Convert this dataframe to an interactive table.\"\n",
              "              style=\"display:none;\">\n",
              "        \n",
              "  <svg xmlns=\"http://www.w3.org/2000/svg\" height=\"24px\"viewBox=\"0 0 24 24\"\n",
              "       width=\"24px\">\n",
              "    <path d=\"M0 0h24v24H0V0z\" fill=\"none\"/>\n",
              "    <path d=\"M18.56 5.44l.94 2.06.94-2.06 2.06-.94-2.06-.94-.94-2.06-.94 2.06-2.06.94zm-11 1L8.5 8.5l.94-2.06 2.06-.94-2.06-.94L8.5 2.5l-.94 2.06-2.06.94zm10 10l.94 2.06.94-2.06 2.06-.94-2.06-.94-.94-2.06-.94 2.06-2.06.94z\"/><path d=\"M17.41 7.96l-1.37-1.37c-.4-.4-.92-.59-1.43-.59-.52 0-1.04.2-1.43.59L10.3 9.45l-7.72 7.72c-.78.78-.78 2.05 0 2.83L4 21.41c.39.39.9.59 1.41.59.51 0 1.02-.2 1.41-.59l7.78-7.78 2.81-2.81c.8-.78.8-2.07 0-2.86zM5.41 20L4 18.59l7.72-7.72 1.47 1.35L5.41 20z\"/>\n",
              "  </svg>\n",
              "      </button>\n",
              "      \n",
              "  <style>\n",
              "    .colab-df-container {\n",
              "      display:flex;\n",
              "      flex-wrap:wrap;\n",
              "      gap: 12px;\n",
              "    }\n",
              "\n",
              "    .colab-df-convert {\n",
              "      background-color: #E8F0FE;\n",
              "      border: none;\n",
              "      border-radius: 50%;\n",
              "      cursor: pointer;\n",
              "      display: none;\n",
              "      fill: #1967D2;\n",
              "      height: 32px;\n",
              "      padding: 0 0 0 0;\n",
              "      width: 32px;\n",
              "    }\n",
              "\n",
              "    .colab-df-convert:hover {\n",
              "      background-color: #E2EBFA;\n",
              "      box-shadow: 0px 1px 2px rgba(60, 64, 67, 0.3), 0px 1px 3px 1px rgba(60, 64, 67, 0.15);\n",
              "      fill: #174EA6;\n",
              "    }\n",
              "\n",
              "    [theme=dark] .colab-df-convert {\n",
              "      background-color: #3B4455;\n",
              "      fill: #D2E3FC;\n",
              "    }\n",
              "\n",
              "    [theme=dark] .colab-df-convert:hover {\n",
              "      background-color: #434B5C;\n",
              "      box-shadow: 0px 1px 3px 1px rgba(0, 0, 0, 0.15);\n",
              "      filter: drop-shadow(0px 1px 2px rgba(0, 0, 0, 0.3));\n",
              "      fill: #FFFFFF;\n",
              "    }\n",
              "  </style>\n",
              "\n",
              "      <script>\n",
              "        const buttonEl =\n",
              "          document.querySelector('#df-f8b473a2-feea-4089-8f1f-196ffded576b button.colab-df-convert');\n",
              "        buttonEl.style.display =\n",
              "          google.colab.kernel.accessAllowed ? 'block' : 'none';\n",
              "\n",
              "        async function convertToInteractive(key) {\n",
              "          const element = document.querySelector('#df-f8b473a2-feea-4089-8f1f-196ffded576b');\n",
              "          const dataTable =\n",
              "            await google.colab.kernel.invokeFunction('convertToInteractive',\n",
              "                                                     [key], {});\n",
              "          if (!dataTable) return;\n",
              "\n",
              "          const docLinkHtml = 'Like what you see? Visit the ' +\n",
              "            '<a target=\"_blank\" href=https://colab.research.google.com/notebooks/data_table.ipynb>data table notebook</a>'\n",
              "            + ' to learn more about interactive tables.';\n",
              "          element.innerHTML = '';\n",
              "          dataTable['output_type'] = 'display_data';\n",
              "          await google.colab.output.renderOutput(dataTable, element);\n",
              "          const docLink = document.createElement('div');\n",
              "          docLink.innerHTML = docLinkHtml;\n",
              "          element.appendChild(docLink);\n",
              "        }\n",
              "      </script>\n",
              "    </div>\n",
              "  </div>\n",
              "  "
            ]
          },
          "metadata": {},
          "execution_count": 18
        }
      ]
    },
    {
      "cell_type": "markdown",
      "source": [
        "## Impute Missing Values"
      ],
      "metadata": {
        "id": "VxFyYcPIqLSs"
      },
      "id": "VxFyYcPIqLSs"
    },
    {
      "cell_type": "markdown",
      "source": [
        "KNN IMPUTER"
      ],
      "metadata": {
        "id": "D_9TqptZqPL8"
      },
      "id": "D_9TqptZqPL8"
    },
    {
      "cell_type": "code",
      "execution_count": null,
      "id": "ba4c936c",
      "metadata": {
        "colab": {
          "base_uri": "https://localhost:8080/",
          "height": 71
        },
        "id": "ba4c936c",
        "outputId": "3e434b1c-ec2f-4458-aa59-ab26417f7ae7"
      },
      "outputs": [
        {
          "output_type": "execute_result",
          "data": {
            "text/plain": [
              "\"\\nknn_impute = KNNImputer(n_neighbors=7)\\n\\ndf_music['instrumentalness']=knn_impute.fit_transform(df_music[['instrumentalness']])\\ndf_music['Popularity']=knn_impute.fit_transform(df_music[['Popularity']])\\ndf_music['key']=knn_impute.fit_transform(df_music[['key']])\\n\""
            ],
            "application/vnd.google.colaboratory.intrinsic+json": {
              "type": "string"
            }
          },
          "metadata": {},
          "execution_count": 340
        }
      ],
      "source": [
        "'''\n",
        "knn_impute = KNNImputer(n_neighbors=7)\n",
        "\n",
        "df_music['instrumentalness']=knn_impute.fit_transform(df_music[['instrumentalness']])\n",
        "df_music['Popularity']=knn_impute.fit_transform(df_music[['Popularity']])\n",
        "df_music['key']=knn_impute.fit_transform(df_music[['key']])\n",
        "'''"
      ]
    },
    {
      "cell_type": "markdown",
      "source": [
        "MEAN"
      ],
      "metadata": {
        "id": "7gOVcEs4qRbp"
      },
      "id": "7gOVcEs4qRbp"
    },
    {
      "cell_type": "code",
      "execution_count": 19,
      "id": "a18e0be9",
      "metadata": {
        "id": "a18e0be9"
      },
      "outputs": [],
      "source": [
        "df_music['instrumentalness'].fillna(df_music['instrumentalness'].mean(), inplace = True)\n",
        "df_music['Popularity'].fillna(df_music['Popularity'].mean(), inplace = True)\n",
        "df_music['key'].fillna(df_music['key'].mean(), inplace = True)"
      ]
    },
    {
      "cell_type": "code",
      "execution_count": 20,
      "id": "a94c2845",
      "metadata": {
        "colab": {
          "base_uri": "https://localhost:8080/"
        },
        "id": "a94c2845",
        "outputId": "1e9e75e1-618c-40ad-934f-0fe4e3c026de"
      },
      "outputs": [
        {
          "output_type": "execute_result",
          "data": {
            "text/plain": [
              "Artist Name               0\n",
              "Track Name                0\n",
              "Popularity                0\n",
              "danceability              0\n",
              "energy                    0\n",
              "key                       0\n",
              "loudness                  0\n",
              "mode                      0\n",
              "speechiness               0\n",
              "acousticness              0\n",
              "instrumentalness          0\n",
              "liveness                  0\n",
              "valence                   0\n",
              "tempo                     0\n",
              "duration_in min/ms        0\n",
              "time_signature            0\n",
              "Class                     0\n",
              "Artist_Length             0\n",
              "Artist_Char_Count         0\n",
              "Track_Length              0\n",
              "Track_Char_Count          0\n",
              "Track_Digit               0\n",
              "Track_in_min              0\n",
              "danceability_by_artist    0\n",
              "energy_by_artist          0\n",
              "loudness_by_artist        0\n",
              "acousticness_by_artist    0\n",
              "dtype: int64"
            ]
          },
          "metadata": {},
          "execution_count": 20
        }
      ],
      "source": [
        "df_music.isnull().sum()"
      ]
    },
    {
      "cell_type": "code",
      "execution_count": 28,
      "id": "bfb42593",
      "metadata": {
        "id": "bfb42593"
      },
      "outputs": [],
      "source": [
        "#Independent\n",
        "X = df_music.iloc[:,df_music.columns!='Class'].values\n",
        "#Dependent\n",
        "y = df_music.iloc[:,df_music.columns=='Class'].values"
      ]
    },
    {
      "cell_type": "code",
      "source": [
        "from imblearn.over_sampling import SMOTE\n",
        "oversample = SMOTE()\n",
        "X_over, y_over = oversample.fit_resample(X, y)"
      ],
      "metadata": {
        "id": "odFkfRZcaA7O"
      },
      "id": "odFkfRZcaA7O",
      "execution_count": 29,
      "outputs": []
    },
    {
      "cell_type": "code",
      "execution_count": 31,
      "id": "7179ac68",
      "metadata": {
        "id": "7179ac68"
      },
      "outputs": [],
      "source": [
        "X_train, X_test, y_train, y_test = train_test_split(X_over , y_over , test_size=0.2, random_state=42, shuffle=True )\n",
        "y_train=y_train.ravel()"
      ]
    },
    {
      "cell_type": "code",
      "source": [
        "column_names= ['Artist Name', 'Track Name', 'Popularity', 'danceability', 'energy',\n",
        "       'key', 'loudness', 'mode', 'speechiness', 'acousticness',\n",
        "       'instrumentalness', 'liveness', 'valence', 'tempo',\n",
        "       'duration_in min/ms', 'time_signature',  'Artist_Length',\n",
        "       'Artist_Char_Count', 'Track_Length', 'Track_Char_Count', 'Track_Digit',\n",
        "       'Track_in_min', 'danceability_by_artist', 'energy_by_artist',\n",
        "       'loudness_by_artist', 'acousticness_by_artist']"
      ],
      "metadata": {
        "id": "9Og2BoIM4GZU"
      },
      "id": "9Og2BoIM4GZU",
      "execution_count": 33,
      "outputs": []
    },
    {
      "cell_type": "code",
      "source": [
        "#X_test = imputer.transform(X_test)\n",
        "#X_test = pd.DataFrame(X_test, columns= column_names)"
      ],
      "metadata": {
        "id": "4Xf3gzAC6mSs"
      },
      "id": "4Xf3gzAC6mSs",
      "execution_count": 24,
      "outputs": []
    },
    {
      "cell_type": "code",
      "execution_count": 34,
      "id": "a17d8a87",
      "metadata": {
        "id": "a17d8a87"
      },
      "outputs": [],
      "source": [
        "# Standard Scaler\n",
        "def scale_features(X_train, X_test):\n",
        "    scaler = StandardScaler().fit(X_train)\n",
        "    Xtrain = scaler.transform(X_train)\n",
        "    Xtest = scaler.transform(X_test)\n",
        "    return Xtrain, Xtest"
      ]
    },
    {
      "cell_type": "code",
      "source": [
        "X_train_norm,X_test_norm=scale_features(X_train, X_test)"
      ],
      "metadata": {
        "id": "JwQvKkVVOdrI"
      },
      "id": "JwQvKkVVOdrI",
      "execution_count": 35,
      "outputs": []
    },
    {
      "cell_type": "markdown",
      "source": [],
      "metadata": {
        "id": "AoAYZ1nq_Oni"
      },
      "id": "AoAYZ1nq_Oni"
    },
    {
      "cell_type": "code",
      "execution_count": 36,
      "id": "e0c55ff5",
      "metadata": {
        "id": "e0c55ff5"
      },
      "outputs": [],
      "source": [
        "def Performance_Metrics(y_test,y_pred):\n",
        "    print('-------------------PERFORMANCE METRICS-------------------')\n",
        "    print(\"Accuracy:\",100*accuracy_score(y_test, y_pred))\n",
        "    print('F1 score:', 100*f1_score(y_test, y_pred,average='weighted'))\n",
        "    print('Recall:', 100*recall_score(y_test, y_pred,average='weighted'))\n",
        "    print('Precision:', 100*precision_score(y_test, y_pred, average='weighted'))\n",
        "    print('---------------------------------------------------------')"
      ]
    },
    {
      "cell_type": "code",
      "source": [
        "# Function used for displaying confusion matrix.\n",
        "def display_confusionMatrix(clf, X, y, title):\n",
        "  cm = confusion_matrix(y, clf.predict(X), labels=clf.classes_)\n",
        "  normed_c = (cm.T / cm.astype(np.float).sum(axis=1)).T\n",
        "  disp = ConfusionMatrixDisplay(confusion_matrix=normed_c,\n",
        "                                display_labels=clf.classes_)\n",
        "  disp.plot(\n",
        "      cmap=plt.cm.Blues\n",
        "      )\n",
        "  disp.ax_.set_title(title + \" Confusion Matrix:\")"
      ],
      "metadata": {
        "id": "dxDZ5cDnKkc-"
      },
      "id": "dxDZ5cDnKkc-",
      "execution_count": 37,
      "outputs": []
    },
    {
      "cell_type": "code",
      "execution_count": 38,
      "id": "f57d69f7",
      "metadata": {
        "colab": {
          "base_uri": "https://localhost:8080/"
        },
        "id": "f57d69f7",
        "outputId": "bc9504d9-49ce-472f-dc47-0e7291511b86"
      },
      "outputs": [
        {
          "output_type": "stream",
          "name": "stdout",
          "text": [
            "-------------------PERFORMANCE METRICS-------------------\n",
            "Accuracy: 71.85892725936812\n",
            "F1 score: 70.86458246225085\n",
            "Recall: 71.85892725936812\n",
            "Precision: 70.67041707007049\n",
            "---------------------------------------------------------\n"
          ]
        }
      ],
      "source": [
        "import xgboost as xgb\n",
        "from xgboost import XGBClassifier\n",
        "xgb_model=xgb.XGBClassifier(random_state=0,use_label_encoder=False,eval_metric='mlogloss')\n",
        "xgb_model=xgb_model.fit(X_train_norm, y_train)\n",
        "y_pred=xgb_model.predict(X_test_norm)\n",
        "cm=confusion_matrix(y_test,y_pred)\n",
        "Performance_Metrics(y_test,y_pred)"
      ]
    },
    {
      "cell_type": "code",
      "source": [
        "from lightgbm import LGBMClassifier\n",
        "LG = LGBMClassifier()\n",
        "\n",
        "LG.fit(X_train_norm, y_train)\n",
        "lg_pred=xgb_model.predict(X_test_norm)\n",
        "print(f\"accuracy train: {LG.score(X_train_norm, y_train)}\")\n",
        "print(f\"accuracy val: {LG.score(X_test_norm, y_test)}\")\n",
        "Performance_Metrics(y_test,lg_pred)"
      ],
      "metadata": {
        "colab": {
          "base_uri": "https://localhost:8080/"
        },
        "id": "0uuatjY6aA27",
        "outputId": "eb31ad05-bf60-4eaf-c6ab-95c59d1e2a29"
      },
      "id": "0uuatjY6aA27",
      "execution_count": 39,
      "outputs": [
        {
          "output_type": "stream",
          "name": "stdout",
          "text": [
            "accuracy train: 0.8639066841174715\n",
            "accuracy val: 0.789033798677443\n",
            "-------------------PERFORMANCE METRICS-------------------\n",
            "Accuracy: 71.85892725936812\n",
            "F1 score: 70.86458246225085\n",
            "Recall: 71.85892725936812\n",
            "Precision: 70.67041707007049\n",
            "---------------------------------------------------------\n"
          ]
        }
      ]
    },
    {
      "cell_type": "markdown",
      "source": [
        "## MODEL TRAINING & TESTING"
      ],
      "metadata": {
        "id": "bHN66zH1vcBX"
      },
      "id": "bHN66zH1vcBX"
    },
    {
      "cell_type": "code",
      "source": [
        "# Classifier K-Nearest Neighbors (KN)\n",
        "classifier_kn = KNeighborsClassifier()\n",
        "title_kn = \"K-Nearest Neighbor\"\n",
        "\n",
        "# LGBM\n",
        "classifier_lg = LGBMClassifier()\n",
        "title_lg = \"LGBM\"\n",
        "\n",
        "# Random Forest\n",
        "classifier_rf = RandomForestClassifier()\n",
        "title_rf = \"Random Forest\"\n",
        "\n",
        "# Logistic Regression\n",
        "classifier_lr = LogisticRegression(max_iter=500,multi_class='multinomial')\n",
        "title_lr = \"Logistic Regression\"\n",
        "\n",
        "# Multi-Layer-Perceptron \n",
        "classifier_mlp = MLPClassifier()\n",
        "title_mlp = \"Multi-Layer-Perceptron\"\n",
        "\n",
        "# SVM\n",
        "classifier_svc = SVC()\n",
        "title_svc = \"Support Vector Machine\"\n",
        "\n",
        "# XGBoost\n",
        "classifier_xgb=xgb.XGBClassifier(random_state=42,use_label_encoder=False)\n",
        "title_xgb = \"XGBoost\""
      ],
      "metadata": {
        "id": "MYigzhuyHWXP"
      },
      "id": "MYigzhuyHWXP",
      "execution_count": 40,
      "outputs": []
    },
    {
      "cell_type": "code",
      "source": [
        "classifiers = [classifier_lg,classifier_lr, classifier_kn, classifier_mlp, classifier_rf, classifier_svc]\n",
        "\n",
        "titles = [title_lg,title_lr,title_kn, title_mlp,title_rf, title_svc]"
      ],
      "metadata": {
        "id": "4YClHQerwEG2"
      },
      "id": "4YClHQerwEG2",
      "execution_count": 41,
      "outputs": []
    },
    {
      "cell_type": "code",
      "source": [
        "# Fitting training data on-to the classifiers\n",
        "for clf, title in zip(classifiers, titles):\n",
        "  clf.fit(X_train_norm, y_train)\n",
        "  prediction = clf.predict(X_test_norm)\n",
        "  #Performance_Metrics(y_test,prediction)\n",
        "  print(title + \" Accuracy Score:\", round(clf.score(X_test_norm, y_test), 2))"
      ],
      "metadata": {
        "colab": {
          "base_uri": "https://localhost:8080/"
        },
        "id": "euuZppbgHc5n",
        "outputId": "c85bef47-bea0-4acc-f8bb-0c1085681469"
      },
      "id": "euuZppbgHc5n",
      "execution_count": 42,
      "outputs": [
        {
          "output_type": "stream",
          "name": "stdout",
          "text": [
            "LGBM Accuracy Score: 0.79\n",
            "Logistic Regression Accuracy Score: 0.65\n",
            "Decision Tree Accuracy Score: 0.69\n",
            "K-Nearest Neighbor Accuracy Score: 0.77\n"
          ]
        },
        {
          "output_type": "stream",
          "name": "stderr",
          "text": [
            "/usr/local/lib/python3.7/dist-packages/sklearn/neural_network/_multilayer_perceptron.py:696: ConvergenceWarning: Stochastic Optimizer: Maximum iterations (200) reached and the optimization hasn't converged yet.\n",
            "  ConvergenceWarning,\n"
          ]
        },
        {
          "output_type": "stream",
          "name": "stdout",
          "text": [
            "Multi-Layer-Perceptron Accuracy Score: 0.74\n",
            "Naive Bayes Accuracy Score: 0.6\n",
            "Random Forest Accuracy Score: 0.8\n",
            "Support Vector Machine Accuracy Score: 0.75\n"
          ]
        }
      ]
    },
    {
      "cell_type": "markdown",
      "source": [
        "## HYPERPARAMETER TUNING "
      ],
      "metadata": {
        "id": "bPA6UKvdAFQY"
      },
      "id": "bPA6UKvdAFQY"
    },
    {
      "cell_type": "code",
      "source": [
        "def parameter_tuning(model, hyper_parameter_grid, X_train, y_train ,X_test,y_test):\n",
        "  # Initialising grid search\n",
        "  grid = RandomizedSearchCV(estimator=model,\n",
        "                      param_distributions =  hyper_parameter_grid,\n",
        "                      scoring='accuracy',\n",
        "                      verbose=2,\n",
        "                      cv = 2,\n",
        "                      n_jobs=-1\n",
        "                      )\n",
        "  \n",
        "  # Inputing the data onto the grid search\n",
        "  result = grid.fit(X_train, y_train)\n",
        "\n",
        "  # Displaying the best score with its corrsponding parameters\n",
        "  print('Best Score: ', result.best_score_)\n",
        "  print('Best Params: ', result.best_params_)\n",
        "  print('Best Estimator: ',result.best_estimator_)\n",
        "  prediction = result.predict(X_test)\n",
        "  Performance_Metrics(y_test,prediction)"
      ],
      "metadata": {
        "id": "s7JXeOxcCPMp"
      },
      "id": "s7JXeOxcCPMp",
      "execution_count": 43,
      "outputs": []
    },
    {
      "cell_type": "markdown",
      "source": [
        "LGBM"
      ],
      "metadata": {
        "id": "dCrPiIbKx5G9"
      },
      "id": "dCrPiIbKx5G9"
    },
    {
      "cell_type": "code",
      "source": [
        "from scipy.stats import randint as sp_randint\n",
        "from scipy.stats import uniform as sp_uniform\n",
        "lg_param_test ={'num_leaves': sp_randint(2, 40), \n",
        "             'min_child_samples': sp_randint(100, 500), \n",
        "             'min_child_weight': [1e-5, 1e-3, 1e-2, 1e-1, 1, 1e1, 1e2, 1e3, 1e4],\n",
        "             'subsample': sp_uniform(loc=0.2, scale=0.8), \n",
        "             'colsample_bytree': sp_uniform(loc=0.4, scale=0.6),\n",
        "             'reg_alpha': [0, 1e-1, 1, 2, 5, 7, 10, 50, 100],\n",
        "             'reg_lambda': [0, 1e-1, 1, 5, 10, 20, 50, 100]}"
      ],
      "metadata": {
        "id": "JEGj81ncxe7F"
      },
      "id": "JEGj81ncxe7F",
      "execution_count": 44,
      "outputs": []
    },
    {
      "cell_type": "code",
      "source": [
        "lg = LGBMClassifier()\n",
        "parameter_tuning(lg, lg_param_test, X_train_norm, y_train ,X_test_norm,y_test)"
      ],
      "metadata": {
        "colab": {
          "base_uri": "https://localhost:8080/"
        },
        "id": "_D0yNr_gxp9W",
        "outputId": "a1c5650f-923b-4d1c-9951-d4b178fafe04"
      },
      "id": "_D0yNr_gxp9W",
      "execution_count": 45,
      "outputs": [
        {
          "output_type": "stream",
          "name": "stdout",
          "text": [
            "Fitting 2 folds for each of 10 candidates, totalling 20 fits\n",
            "Best Score:  0.759362571503529\n",
            "Best Params:  {'colsample_bytree': 0.9272046994364062, 'min_child_samples': 353, 'min_child_weight': 10.0, 'num_leaves': 35, 'reg_alpha': 0, 'reg_lambda': 0, 'subsample': 0.3002320398422395}\n",
            "Best Estimator:  LGBMClassifier(colsample_bytree=0.9272046994364062, min_child_samples=353,\n",
            "               min_child_weight=10.0, num_leaves=35, reg_alpha=0, reg_lambda=0,\n",
            "               subsample=0.3002320398422395)\n",
            "-------------------PERFORMANCE METRICS-------------------\n",
            "Accuracy: 78.17781043350477\n",
            "F1 score: 77.69444114664334\n",
            "Recall: 78.17781043350477\n",
            "Precision: 77.62022124716076\n",
            "---------------------------------------------------------\n"
          ]
        }
      ]
    },
    {
      "cell_type": "markdown",
      "source": [
        "SVM"
      ],
      "metadata": {
        "id": "V4pw5I-uyXwC"
      },
      "id": "V4pw5I-uyXwC"
    },
    {
      "cell_type": "code",
      "source": [
        "# defining parameter range\n",
        "svm_param_grid = {'C': [0.1,1, 10, 100], \n",
        "              'gamma': [1,0.1,0.01,0.001],\n",
        "              'kernel': ['rbf', 'poly', 'sigmoid']}"
      ],
      "metadata": {
        "id": "Elfj5A-lyYze"
      },
      "id": "Elfj5A-lyYze",
      "execution_count": null,
      "outputs": []
    },
    {
      "cell_type": "code",
      "source": [
        "svm_model = SVC()\n",
        "parameter_tuning(svm_model , svm_param_grid, X_train_norm, y_train ,X_test_norm,y_test)"
      ],
      "metadata": {
        "id": "yz-rfDEsy6a6"
      },
      "id": "yz-rfDEsy6a6",
      "execution_count": null,
      "outputs": []
    },
    {
      "cell_type": "markdown",
      "source": [
        "K-Nearest Neighbor"
      ],
      "metadata": {
        "id": "J33gX1AfucYK"
      },
      "id": "J33gX1AfucYK"
    },
    {
      "cell_type": "code",
      "source": [
        "parameters = { 'n_neighbors' : [3,5,7,9,11,13,15],\n",
        "               'metric' : ['minkowski','euclidean','manhattan']}\n",
        "neigh = KNeighborsClassifier()\n",
        "grid_neigh = GridSearchCV(neigh, parameters)\n",
        "grid_neigh.fit(X_train_norm, y_train) \n",
        "Y_pred=grid_neigh.predict(X_test_norm)\n",
        "accuracy=grid_neigh.score(X_test_norm,y_test)\n",
        "Performance_Metrics(y_test,Y_pred)"
      ],
      "metadata": {
        "colab": {
          "base_uri": "https://localhost:8080/"
        },
        "id": "_GiybWhduanD",
        "outputId": "383be93c-cd90-41a2-d419-710a09603578"
      },
      "id": "_GiybWhduanD",
      "execution_count": 46,
      "outputs": [
        {
          "output_type": "stream",
          "name": "stdout",
          "text": [
            "-------------------PERFORMANCE METRICS-------------------\n",
            "Accuracy: 80.42799412196914\n",
            "F1 score: 79.31106182695406\n",
            "Recall: 80.42799412196914\n",
            "Precision: 80.6565620925726\n",
            "---------------------------------------------------------\n"
          ]
        }
      ]
    },
    {
      "cell_type": "code",
      "source": [
        " print('Best Estimator: ',grid_neigh.best_estimator_)"
      ],
      "metadata": {
        "id": "Ifd3Fc7IfWlF"
      },
      "id": "Ifd3Fc7IfWlF",
      "execution_count": null,
      "outputs": []
    },
    {
      "cell_type": "markdown",
      "source": [
        "RANDOM FOREST CLASSIFIER\n",
        "\n"
      ],
      "metadata": {
        "id": "UUiatEtFAJUS"
      },
      "id": "UUiatEtFAJUS"
    },
    {
      "cell_type": "code",
      "source": [
        "# Number of trees in random forest\n",
        "n_estimators = [int(x) for x in np.linspace(start = 4, stop = 100, num = 5)]\n",
        "# Number of features to consider at every split\n",
        "max_features = ['auto', 'sqrt']\n",
        "# Maximum number of levels in tree\n",
        "max_depth = [int(x) for x in np.linspace(10, 110, num = 11)]\n",
        "max_depth.append(None)\n",
        "# Minimum number of samples required to split a node\n",
        "min_samples_split = [2, 3,6,7,5]\n",
        "# Minimum number of samples required at each leaf node\n",
        "min_samples_leaf = [1, 2, 3 , 4]\n",
        "# Method of selecting samples for training each tree\n",
        "bootstrap = [True, False]\n",
        "# Create the random grid\n",
        "RF_grid = {'n_estimators': n_estimators,\n",
        "               'max_features': max_features,\n",
        "               'max_depth': max_depth,\n",
        "               'min_samples_split': min_samples_split,\n",
        "               'min_samples_leaf': min_samples_leaf,\n",
        "               'bootstrap': bootstrap}"
      ],
      "metadata": {
        "id": "-dSVNe53-F2r"
      },
      "id": "-dSVNe53-F2r",
      "execution_count": 47,
      "outputs": []
    },
    {
      "cell_type": "code",
      "source": [
        "crf= RandomForestClassifier()\n",
        "parameter_tuning(crf, RF_grid, X_train_norm, y_train ,X_test_norm,y_test)"
      ],
      "metadata": {
        "colab": {
          "base_uri": "https://localhost:8080/"
        },
        "id": "SvhZeUUF-Y8B",
        "outputId": "c9e9e211-eabf-49fd-c020-689515f9f6ff"
      },
      "id": "SvhZeUUF-Y8B",
      "execution_count": 48,
      "outputs": [
        {
          "output_type": "stream",
          "name": "stdout",
          "text": [
            "Fitting 2 folds for each of 10 candidates, totalling 20 fits\n",
            "Best Score:  0.7782369766776809\n",
            "Best Params:  {'n_estimators': 52, 'min_samples_split': 3, 'min_samples_leaf': 1, 'max_features': 'auto', 'max_depth': 90, 'bootstrap': False}\n",
            "Best Estimator:  RandomForestClassifier(bootstrap=False, max_depth=90, min_samples_split=3,\n",
            "                       n_estimators=52)\n",
            "-------------------PERFORMANCE METRICS-------------------\n",
            "Accuracy: 81.18111682586333\n",
            "F1 score: 80.73361226465579\n",
            "Recall: 81.18111682586333\n",
            "Precision: 80.52211491897769\n",
            "---------------------------------------------------------\n"
          ]
        }
      ]
    },
    {
      "cell_type": "markdown",
      "source": [
        "SEQUENTIAL DEEP LEARNING MODELS"
      ],
      "metadata": {
        "id": "DSbJbBqGx_OP"
      },
      "id": "DSbJbBqGx_OP"
    },
    {
      "cell_type": "code",
      "source": [
        "import tensorflow as tf\n",
        "from tensorflow import keras\n",
        "\n",
        "model_new = tf.keras.Sequential([\n",
        "    tf.keras.layers.Dense(512, activation='leaky_relu',input_shape = (X_train.shape[1],)),\n",
        "    tf.keras.layers.Dropout(0.2),\n",
        "    tf.keras.layers.Dense(512, activation='leaky_relu'),\n",
        "    tf.keras.layers.Dropout(0.2),\n",
        "    tf.keras.layers.Dense(512, activation='leaky_relu'),\n",
        "    tf.keras.layers.Dropout(0.2),\n",
        "    tf.keras.layers.Dense(128, activation='leaky_relu'),\n",
        "    tf.keras.layers.Dropout(0.2),\n",
        "    tf.keras.layers.Dense(64, activation='leaky_relu'),\n",
        "    tf.keras.layers.Dropout(0.2),\n",
        "    tf.keras.layers.Dense(32, activation='leaky_relu'),\n",
        "    tf.keras.layers.Dropout(0.2),\n",
        "    tf.keras.layers.Dense(11,activation = 'softmax')\n",
        "])\n"
      ],
      "metadata": {
        "id": "j0Wp6_9cAT-n"
      },
      "id": "j0Wp6_9cAT-n",
      "execution_count": 52,
      "outputs": []
    },
    {
      "cell_type": "code",
      "source": [
        "model_new.compile(optimizer='adam',\n",
        "              loss=tf.keras.losses.SparseCategoricalCrossentropy(),\n",
        "              metrics=['accuracy'])"
      ],
      "metadata": {
        "id": "DwVRQ3N37OQD"
      },
      "id": "DwVRQ3N37OQD",
      "execution_count": 53,
      "outputs": []
    },
    {
      "cell_type": "code",
      "source": [
        "model_new.fit(X_train_norm, y_train, epochs=100)\n"
      ],
      "metadata": {
        "colab": {
          "base_uri": "https://localhost:8080/"
        },
        "id": "uMQRvJgT7RFS",
        "outputId": "13017e73-f106-448a-d86b-7a514933fba3"
      },
      "id": "uMQRvJgT7RFS",
      "execution_count": 55,
      "outputs": [
        {
          "output_type": "stream",
          "name": "stdout",
          "text": [
            "Epoch 1/100\n",
            "1361/1361 [==============================] - 17s 13ms/step - loss: 1.0480 - accuracy: 0.6234\n",
            "Epoch 2/100\n",
            "1361/1361 [==============================] - 17s 12ms/step - loss: 0.9565 - accuracy: 0.6526\n",
            "Epoch 3/100\n",
            "1361/1361 [==============================] - 16s 12ms/step - loss: 0.9150 - accuracy: 0.6678\n",
            "Epoch 4/100\n",
            "1361/1361 [==============================] - 17s 12ms/step - loss: 0.8903 - accuracy: 0.6769\n",
            "Epoch 5/100\n",
            "1361/1361 [==============================] - 25s 18ms/step - loss: 0.8650 - accuracy: 0.6830\n",
            "Epoch 6/100\n",
            "1361/1361 [==============================] - 19s 14ms/step - loss: 0.8513 - accuracy: 0.6878\n",
            "Epoch 7/100\n",
            "1361/1361 [==============================] - 17s 13ms/step - loss: 0.8324 - accuracy: 0.6899\n",
            "Epoch 8/100\n",
            "1361/1361 [==============================] - 17s 13ms/step - loss: 0.8232 - accuracy: 0.6959\n",
            "Epoch 9/100\n",
            "1361/1361 [==============================] - 18s 13ms/step - loss: 0.8138 - accuracy: 0.7018\n",
            "Epoch 10/100\n",
            "1361/1361 [==============================] - 18s 13ms/step - loss: 0.7997 - accuracy: 0.7037\n",
            "Epoch 11/100\n",
            "1361/1361 [==============================] - 18s 13ms/step - loss: 0.7958 - accuracy: 0.7041\n",
            "Epoch 12/100\n",
            "1361/1361 [==============================] - 17s 13ms/step - loss: 0.7852 - accuracy: 0.7132\n",
            "Epoch 13/100\n",
            "1361/1361 [==============================] - 17s 13ms/step - loss: 0.7776 - accuracy: 0.7123\n",
            "Epoch 14/100\n",
            "1361/1361 [==============================] - 17s 13ms/step - loss: 0.7682 - accuracy: 0.7164\n",
            "Epoch 15/100\n",
            "1361/1361 [==============================] - 17s 13ms/step - loss: 0.7684 - accuracy: 0.7170\n",
            "Epoch 16/100\n",
            "1361/1361 [==============================] - 17s 13ms/step - loss: 0.7587 - accuracy: 0.7199\n",
            "Epoch 17/100\n",
            "1361/1361 [==============================] - 17s 13ms/step - loss: 0.7512 - accuracy: 0.7207\n",
            "Epoch 18/100\n",
            "1361/1361 [==============================] - 19s 14ms/step - loss: 0.7465 - accuracy: 0.7240\n",
            "Epoch 19/100\n",
            "1361/1361 [==============================] - 17s 13ms/step - loss: 0.7407 - accuracy: 0.7267\n",
            "Epoch 20/100\n",
            "1361/1361 [==============================] - 18s 13ms/step - loss: 0.7321 - accuracy: 0.7302\n",
            "Epoch 21/100\n",
            "1361/1361 [==============================] - 17s 13ms/step - loss: 0.7293 - accuracy: 0.7289\n",
            "Epoch 22/100\n",
            "1361/1361 [==============================] - 18s 13ms/step - loss: 0.7195 - accuracy: 0.7326\n",
            "Epoch 23/100\n",
            "1361/1361 [==============================] - 17s 12ms/step - loss: 0.7172 - accuracy: 0.7348\n",
            "Epoch 24/100\n",
            "1361/1361 [==============================] - 17s 12ms/step - loss: 0.7156 - accuracy: 0.7350\n",
            "Epoch 25/100\n",
            "1361/1361 [==============================] - 17s 12ms/step - loss: 0.7114 - accuracy: 0.7364\n",
            "Epoch 26/100\n",
            "1361/1361 [==============================] - 17s 12ms/step - loss: 0.7065 - accuracy: 0.7386\n",
            "Epoch 27/100\n",
            "1361/1361 [==============================] - 16s 12ms/step - loss: 0.7017 - accuracy: 0.7387\n",
            "Epoch 28/100\n",
            "1361/1361 [==============================] - 16s 12ms/step - loss: 0.6986 - accuracy: 0.7372\n",
            "Epoch 29/100\n",
            "1361/1361 [==============================] - 16s 12ms/step - loss: 0.6953 - accuracy: 0.7426\n",
            "Epoch 30/100\n",
            "1361/1361 [==============================] - 18s 13ms/step - loss: 0.6929 - accuracy: 0.7414\n",
            "Epoch 31/100\n",
            "1361/1361 [==============================] - 17s 12ms/step - loss: 0.6886 - accuracy: 0.7461\n",
            "Epoch 32/100\n",
            "1361/1361 [==============================] - 17s 12ms/step - loss: 0.6831 - accuracy: 0.7474\n",
            "Epoch 33/100\n",
            "1361/1361 [==============================] - 17s 12ms/step - loss: 0.6805 - accuracy: 0.7478\n",
            "Epoch 34/100\n",
            "1361/1361 [==============================] - 17s 12ms/step - loss: 0.6749 - accuracy: 0.7503\n",
            "Epoch 35/100\n",
            "1361/1361 [==============================] - 16s 12ms/step - loss: 0.6730 - accuracy: 0.7507\n",
            "Epoch 36/100\n",
            "1361/1361 [==============================] - 17s 12ms/step - loss: 0.6706 - accuracy: 0.7525\n",
            "Epoch 37/100\n",
            "1361/1361 [==============================] - 16s 12ms/step - loss: 0.6707 - accuracy: 0.7522\n",
            "Epoch 38/100\n",
            "1361/1361 [==============================] - 17s 12ms/step - loss: 0.6669 - accuracy: 0.7530\n",
            "Epoch 39/100\n",
            "1361/1361 [==============================] - 18s 13ms/step - loss: 0.6596 - accuracy: 0.7546\n",
            "Epoch 40/100\n",
            "1361/1361 [==============================] - 22s 16ms/step - loss: 0.6559 - accuracy: 0.7564\n",
            "Epoch 41/100\n",
            "1361/1361 [==============================] - 27s 20ms/step - loss: 0.6549 - accuracy: 0.7574\n",
            "Epoch 42/100\n",
            "1361/1361 [==============================] - 24s 17ms/step - loss: 0.6553 - accuracy: 0.7570\n",
            "Epoch 43/100\n",
            "1361/1361 [==============================] - 19s 14ms/step - loss: 0.6574 - accuracy: 0.7548\n",
            "Epoch 44/100\n",
            "1361/1361 [==============================] - 18s 13ms/step - loss: 0.6500 - accuracy: 0.7586\n",
            "Epoch 45/100\n",
            "1361/1361 [==============================] - 18s 14ms/step - loss: 0.6468 - accuracy: 0.7608\n",
            "Epoch 46/100\n",
            "1361/1361 [==============================] - 18s 13ms/step - loss: 0.6418 - accuracy: 0.7609\n",
            "Epoch 47/100\n",
            "1361/1361 [==============================] - 18s 13ms/step - loss: 0.6413 - accuracy: 0.7616\n",
            "Epoch 48/100\n",
            "1361/1361 [==============================] - 18s 14ms/step - loss: 0.6325 - accuracy: 0.7623\n",
            "Epoch 49/100\n",
            "1361/1361 [==============================] - 19s 14ms/step - loss: 0.6429 - accuracy: 0.7645\n",
            "Epoch 50/100\n",
            "1361/1361 [==============================] - 19s 14ms/step - loss: 0.6351 - accuracy: 0.7640\n",
            "Epoch 51/100\n",
            "1361/1361 [==============================] - 18s 13ms/step - loss: 0.6284 - accuracy: 0.7647\n",
            "Epoch 52/100\n",
            "1361/1361 [==============================] - 18s 13ms/step - loss: 0.6343 - accuracy: 0.7654\n",
            "Epoch 53/100\n",
            "1361/1361 [==============================] - 18s 13ms/step - loss: 0.6246 - accuracy: 0.7708\n",
            "Epoch 54/100\n",
            "1361/1361 [==============================] - 18s 13ms/step - loss: 0.6245 - accuracy: 0.7697\n",
            "Epoch 55/100\n",
            "1361/1361 [==============================] - 17s 13ms/step - loss: 0.6226 - accuracy: 0.7703\n",
            "Epoch 56/100\n",
            "1361/1361 [==============================] - 19s 14ms/step - loss: 0.6190 - accuracy: 0.7711\n",
            "Epoch 57/100\n",
            "1361/1361 [==============================] - 18s 13ms/step - loss: 0.6175 - accuracy: 0.7730\n",
            "Epoch 58/100\n",
            "1361/1361 [==============================] - 18s 13ms/step - loss: 0.6168 - accuracy: 0.7715\n",
            "Epoch 59/100\n",
            "1361/1361 [==============================] - 18s 13ms/step - loss: 0.6142 - accuracy: 0.7731\n",
            "Epoch 60/100\n",
            "1361/1361 [==============================] - 18s 13ms/step - loss: 0.6118 - accuracy: 0.7753\n",
            "Epoch 61/100\n",
            "1361/1361 [==============================] - 18s 13ms/step - loss: 0.6212 - accuracy: 0.7693\n",
            "Epoch 62/100\n",
            "1361/1361 [==============================] - 18s 13ms/step - loss: 0.6083 - accuracy: 0.7747\n",
            "Epoch 63/100\n",
            "1361/1361 [==============================] - 17s 13ms/step - loss: 0.6164 - accuracy: 0.7709\n",
            "Epoch 64/100\n",
            "1361/1361 [==============================] - 18s 13ms/step - loss: 0.6070 - accuracy: 0.7767\n",
            "Epoch 65/100\n",
            "1361/1361 [==============================] - 18s 13ms/step - loss: 0.6066 - accuracy: 0.7751\n",
            "Epoch 66/100\n",
            "1361/1361 [==============================] - 18s 13ms/step - loss: 0.6018 - accuracy: 0.7775\n",
            "Epoch 67/100\n",
            "1361/1361 [==============================] - 18s 13ms/step - loss: 0.5973 - accuracy: 0.7811\n",
            "Epoch 68/100\n",
            "1361/1361 [==============================] - 18s 13ms/step - loss: 0.5989 - accuracy: 0.7820\n",
            "Epoch 69/100\n",
            "1361/1361 [==============================] - 18s 13ms/step - loss: 0.5965 - accuracy: 0.7791\n",
            "Epoch 70/100\n",
            "1361/1361 [==============================] - 19s 14ms/step - loss: 0.5975 - accuracy: 0.7795\n",
            "Epoch 71/100\n",
            "1361/1361 [==============================] - 18s 13ms/step - loss: 0.5953 - accuracy: 0.7821\n",
            "Epoch 72/100\n",
            "1361/1361 [==============================] - 17s 13ms/step - loss: 0.5883 - accuracy: 0.7812\n",
            "Epoch 73/100\n",
            "1361/1361 [==============================] - 17s 12ms/step - loss: 0.5941 - accuracy: 0.7818\n",
            "Epoch 74/100\n",
            "1361/1361 [==============================] - 17s 13ms/step - loss: 0.5890 - accuracy: 0.7820\n",
            "Epoch 75/100\n",
            "1361/1361 [==============================] - 18s 13ms/step - loss: 0.5994 - accuracy: 0.7810\n",
            "Epoch 76/100\n",
            "1361/1361 [==============================] - 18s 13ms/step - loss: 0.5863 - accuracy: 0.7846\n",
            "Epoch 77/100\n",
            "1361/1361 [==============================] - 17s 13ms/step - loss: 0.5869 - accuracy: 0.7831\n",
            "Epoch 78/100\n",
            "1361/1361 [==============================] - 18s 13ms/step - loss: 0.5837 - accuracy: 0.7865\n",
            "Epoch 79/100\n",
            "1361/1361 [==============================] - 17s 13ms/step - loss: 0.5875 - accuracy: 0.7831\n",
            "Epoch 80/100\n",
            "1361/1361 [==============================] - 17s 13ms/step - loss: 0.5866 - accuracy: 0.7855\n",
            "Epoch 81/100\n",
            "1361/1361 [==============================] - 18s 13ms/step - loss: 0.5887 - accuracy: 0.7862\n",
            "Epoch 82/100\n",
            "1361/1361 [==============================] - 18s 13ms/step - loss: 0.5825 - accuracy: 0.7839\n",
            "Epoch 83/100\n",
            "1361/1361 [==============================] - 18s 13ms/step - loss: 0.5806 - accuracy: 0.7882\n",
            "Epoch 84/100\n",
            "1361/1361 [==============================] - 19s 14ms/step - loss: 0.5761 - accuracy: 0.7887\n",
            "Epoch 85/100\n",
            "1361/1361 [==============================] - 18s 13ms/step - loss: 0.5812 - accuracy: 0.7880\n",
            "Epoch 86/100\n",
            "1361/1361 [==============================] - 18s 13ms/step - loss: 0.5723 - accuracy: 0.7893\n",
            "Epoch 87/100\n",
            "1361/1361 [==============================] - 18s 13ms/step - loss: 0.5798 - accuracy: 0.7903\n",
            "Epoch 88/100\n",
            "1361/1361 [==============================] - 18s 13ms/step - loss: 0.5724 - accuracy: 0.7904\n",
            "Epoch 89/100\n",
            "1361/1361 [==============================] - 18s 13ms/step - loss: 0.5730 - accuracy: 0.7894\n",
            "Epoch 90/100\n",
            "1361/1361 [==============================] - 18s 13ms/step - loss: 0.5655 - accuracy: 0.7924\n",
            "Epoch 91/100\n",
            "1361/1361 [==============================] - 18s 13ms/step - loss: 0.5699 - accuracy: 0.7926\n",
            "Epoch 92/100\n",
            "1361/1361 [==============================] - 18s 13ms/step - loss: 0.5627 - accuracy: 0.7917\n",
            "Epoch 93/100\n",
            "1361/1361 [==============================] - 18s 13ms/step - loss: 0.5668 - accuracy: 0.7919\n",
            "Epoch 94/100\n",
            "1361/1361 [==============================] - 18s 13ms/step - loss: 0.5647 - accuracy: 0.7915\n",
            "Epoch 95/100\n",
            "1361/1361 [==============================] - 18s 13ms/step - loss: 0.5638 - accuracy: 0.7936\n",
            "Epoch 96/100\n",
            "1361/1361 [==============================] - 18s 13ms/step - loss: 0.5670 - accuracy: 0.7927\n",
            "Epoch 97/100\n",
            "1361/1361 [==============================] - 17s 13ms/step - loss: 0.5632 - accuracy: 0.7933\n",
            "Epoch 98/100\n",
            "1361/1361 [==============================] - 19s 14ms/step - loss: 0.5560 - accuracy: 0.7935\n",
            "Epoch 99/100\n",
            "1361/1361 [==============================] - 23s 17ms/step - loss: 0.5623 - accuracy: 0.7925\n",
            "Epoch 100/100\n",
            "1361/1361 [==============================] - 21s 16ms/step - loss: 0.5629 - accuracy: 0.7964\n"
          ]
        },
        {
          "output_type": "execute_result",
          "data": {
            "text/plain": [
              "<keras.callbacks.History at 0x7fd39ec1a3d0>"
            ]
          },
          "metadata": {},
          "execution_count": 55
        }
      ]
    },
    {
      "cell_type": "code",
      "source": [
        "test_loss, test_acc = model_new.evaluate(X_test_norm,  y_test, verbose=2)\n",
        "print('Test accuracy:', test_acc)"
      ],
      "metadata": {
        "colab": {
          "base_uri": "https://localhost:8080/"
        },
        "id": "vNR5kAnx7kK7",
        "outputId": "5d472ae6-05a1-4d37-e9eb-7fb4057a68cf"
      },
      "id": "vNR5kAnx7kK7",
      "execution_count": 56,
      "outputs": [
        {
          "output_type": "stream",
          "name": "stdout",
          "text": [
            "341/341 - 1s - loss: 0.5626 - accuracy: 0.7901 - 1s/epoch - 4ms/step\n",
            "Test accuracy: 0.79013592004776\n"
          ]
        }
      ]
    }
  ],
  "metadata": {
    "kernelspec": {
      "display_name": "Python 3 (ipykernel)",
      "language": "python",
      "name": "python3"
    },
    "language_info": {
      "codemirror_mode": {
        "name": "ipython",
        "version": 3
      },
      "file_extension": ".py",
      "mimetype": "text/x-python",
      "name": "python",
      "nbconvert_exporter": "python",
      "pygments_lexer": "ipython3",
      "version": "3.9.12"
    },
    "colab": {
      "provenance": []
    }
  },
  "nbformat": 4,
  "nbformat_minor": 5
}