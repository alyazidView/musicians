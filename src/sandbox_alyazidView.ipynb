{
 "cells": [
  {
   "cell_type": "code",
   "execution_count": null,
   "metadata": {},
   "outputs": [],
   "source": [
    "import pandas as pd\n",
    "import numpy as np\n",
    "import janitor as jt\n",
    "import string\n",
    "from sklearn.tree import DecisionTreeClassifier\n",
    "from sklearn.model_selection import train_test_split\n",
    "from sklearn.metrics import accuracy_score"
   ]
  },
  {
   "cell_type": "code",
   "execution_count": null,
   "metadata": {},
   "outputs": [],
   "source": [
    "train = pd.read_csv('../data/train.csv').clean_names().remove_empty().dropna()\n",
    "test = pd.read_csv('../data/test.csv').clean_names().remove_empty().dropna().drop(['artist_name', 'track_name'], axis=1)\n",
    "sample = pd.read_csv('../data/submission.csv').clean_names().remove_empty().dropna()"
   ]
  },
  {
   "cell_type": "code",
   "execution_count": null,
   "metadata": {},
   "outputs": [],
   "source": [
    "X = train.drop(['artist_name', 'track_name', 'class'], axis=1)\n",
    "y = train['class']\n",
    "#y"
   ]
  },
  {
   "cell_type": "code",
   "execution_count": 114,
   "metadata": {},
   "outputs": [],
   "source": [
    "model = DecisionTreeClassifier()\n",
    "model.fit(X,y)\n",
    "prediction = model.predict(test)\n"
   ]
  },
  {
   "cell_type": "code",
   "execution_count": 89,
   "metadata": {},
   "outputs": [],
   "source": [
    "out = pd.DataFrame(prediction)\n",
    "out.rename(columns={0: 'Genre'})\n",
    "out[0] = out.replace(['0', '1','2','3','4','5','6','7','8','9','10'] , ['Acoustic/Folk_0', 'Alt_Music_1', 'Blues_2', 'Bollywood_3', 'Country_4', 'HipHop_5', 'Indie Alt_6', 'Instrumental_7', 'Metal_8', 'Pop_9', 'Rock_10'])"
   ]
  },
  {
   "cell_type": "code",
   "execution_count": 109,
   "metadata": {},
   "outputs": [
    {
     "ename": "AttributeError",
     "evalue": "'numpy.ndarray' object has no attribute 'toString'",
     "output_type": "error",
     "traceback": [
      "\u001b[0;31m---------------------------------------------------------------------------\u001b[0m",
      "\u001b[0;31mAttributeError\u001b[0m                            Traceback (most recent call last)",
      "\u001b[1;32m/workspaces/musicians/src/sandbox_alyazidView.ipynb Cell 6\u001b[0m in \u001b[0;36m<cell line: 1>\u001b[0;34m()\u001b[0m\n\u001b[0;32m----> <a href='vscode-notebook-cell://dev-container%2B2f55736572732f79617a69642f446f63756d656e74732f6d69736b2f6d7573696369616e73/workspaces/musicians/src/sandbox_alyazidView.ipynb#X12sdnNjb2RlLXJlbW90ZQ%3D%3D?line=0'>1</a>\u001b[0m a\u001b[39m=\u001b[39mprediction\u001b[39m.\u001b[39;49mtoString()\n",
      "\u001b[0;31mAttributeError\u001b[0m: 'numpy.ndarray' object has no attribute 'toString'"
     ]
    }
   ],
   "source": []
  },
  {
   "cell_type": "code",
   "execution_count": 117,
   "metadata": {},
   "outputs": [
    {
     "name": "stdout",
     "output_type": "stream",
     "text": [
      "['8' '9' '6' ... '10' '10' '9']\n"
     ]
    }
   ],
   "source": [
    "\n",
    "a = np.array(prediction)\n",
    "prediction = a.astype(str)\n",
    "\n",
    "print(res)"
   ]
  },
  {
   "cell_type": "code",
   "execution_count": 118,
   "metadata": {},
   "outputs": [],
   "source": [
    "i=0\n",
    "while i < len(prediction):\n",
    "\n",
    "    if prediction[i] == '0':\n",
    "        prediction[i] = 'Acoustic/Folk'\n",
    "  \n",
    "\n",
    "    elif prediction[i] == '1':\n",
    "        prediction[i] = 'Alt_Music'\n",
    "        \n",
    "\n",
    "    elif prediction[i] == '2':\n",
    "        prediction[i] = 'Blues'\n",
    "\n",
    "\n",
    "    elif prediction[i] == '3':\n",
    "        prediction[i] = 'Bollywood'\n",
    "        \n",
    "\n",
    "    elif prediction[i] == '4':\n",
    "        prediction[i] = 'Coutnry'\n",
    "\n",
    "    elif prediction[i] == '5':\n",
    "        prediction[i] = 'HipHop'\n",
    "\n",
    "    elif prediction[i] == '6':\n",
    "        prediction[i] = 'Indie_Alt'\n",
    "\n",
    "    elif prediction[i] == '7':\n",
    "        prediction[i] = 'Instrumental'\n",
    "\n",
    "    elif prediction[i] == '8':\n",
    "        prediction[i] = 'Metal'\n",
    "\n",
    "    elif prediction[i] == '9':\n",
    "        prediction[i] = 'Pop'\n",
    "\n",
    "    elif prediction[i] == '10':\n",
    "        prediction[i] = 'Rock'\n",
    "\n",
    "\n",
    "    i += 1\n",
    "  "
   ]
  },
  {
   "cell_type": "code",
   "execution_count": 122,
   "metadata": {},
   "outputs": [
    {
     "name": "stdout",
     "output_type": "stream",
     "text": [
      "['8' '9' 'Indie_Alt' ... '10' '10' '9']\n"
     ]
    }
   ],
   "source": [
    "print(prediction)"
   ]
  },
  {
   "cell_type": "code",
   "execution_count": null,
   "metadata": {},
   "outputs": [],
   "source": []
  },
  {
   "cell_type": "code",
   "execution_count": null,
   "metadata": {},
   "outputs": [],
   "source": []
  }
 ],
 "metadata": {
  "kernelspec": {
   "display_name": "Python 3.9.12 ('base')",
   "language": "python",
   "name": "python3"
  },
  "language_info": {
   "codemirror_mode": {
    "name": "ipython",
    "version": 3
   },
   "file_extension": ".py",
   "mimetype": "text/x-python",
   "name": "python",
   "nbconvert_exporter": "python",
   "pygments_lexer": "ipython3",
   "version": "3.9.12"
  },
  "orig_nbformat": 4,
  "vscode": {
   "interpreter": {
    "hash": "d4d1e4263499bec80672ea0156c357c1ee493ec2b1c70f0acce89fc37c4a6abe"
   }
  }
 },
 "nbformat": 4,
 "nbformat_minor": 2
}
