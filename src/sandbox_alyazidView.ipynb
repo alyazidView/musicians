{
 "cells": [
  {
   "cell_type": "code",
   "execution_count": 191,
   "metadata": {},
   "outputs": [],
   "source": [
    "import pandas as pd\n",
    "import numpy as np\n",
    "import janitor as jt\n",
    "import string\n",
    "from sklearn.tree import DecisionTreeClassifier\n",
    "from sklearn.model_selection import train_test_split\n",
    "from sklearn.metrics import accuracy_score"
   ]
  },
  {
   "cell_type": "code",
   "execution_count": 192,
   "metadata": {},
   "outputs": [],
   "source": [
    "# Importing and Cleaning\n",
    "\n",
    "train = pd.read_csv('../data/train.csv').clean_names().remove_empty().dropna().reset_index()\n",
    "test = pd.read_csv('../data/test.csv').clean_names().remove_empty().dropna().reset_index()\n",
    "testDrop= test.drop(['artist_name', 'track_name'], axis=1)\n",
    "sample = pd.read_csv('../data/submission.csv').clean_names().remove_empty().dropna()"
   ]
  },
  {
   "cell_type": "code",
   "execution_count": 193,
   "metadata": {},
   "outputs": [],
   "source": [
    "# Assignment\n",
    "\n",
    "X = train.drop(['artist_name', 'track_name', 'class'], axis=1)\n",
    "y = train['class']\n",
    "#y"
   ]
  },
  {
   "cell_type": "code",
   "execution_count": 194,
   "metadata": {},
   "outputs": [],
   "source": [
    "# Model\n",
    "\n",
    "model = DecisionTreeClassifier()\n",
    "model.fit(X,y)\n",
    "prediction = model.predict(testDrop)\n"
   ]
  },
  {
   "cell_type": "code",
   "execution_count": 195,
   "metadata": {},
   "outputs": [
    {
     "name": "stdout",
     "output_type": "stream",
     "text": [
      "['8' '9' '6' ... '10' '10' '9']\n"
     ]
    }
   ],
   "source": [
    "# Turning Int Array into String Array\n",
    "\n",
    "a = np.array(prediction)\n",
    "prediction = a.astype(str)\n",
    "\n",
    "print(res)"
   ]
  },
  {
   "cell_type": "code",
   "execution_count": 196,
   "metadata": {},
   "outputs": [],
   "source": [
    "# Replacing Class # with Genre\n",
    "\n",
    "i=0\n",
    "while i < len(prediction):\n",
    "\n",
    "    if prediction[i] == '0':\n",
    "        prediction[i] = 'Acoustic/Folk'\n",
    "  \n",
    "\n",
    "    elif prediction[i] == '1':\n",
    "        prediction[i] = 'Alt_Music'\n",
    "        \n",
    "\n",
    "    elif prediction[i] == '2':\n",
    "        prediction[i] = 'Blues'\n",
    "\n",
    "\n",
    "    elif prediction[i] == '3':\n",
    "        prediction[i] = 'Bollywood'\n",
    "        \n",
    "\n",
    "    elif prediction[i] == '4':\n",
    "        prediction[i] = 'Coutnry'\n",
    "\n",
    "    elif prediction[i] == '5':\n",
    "        prediction[i] = 'HipHop'\n",
    "\n",
    "    elif prediction[i] == '6':\n",
    "        prediction[i] = 'Indie_Alt'\n",
    "\n",
    "    elif prediction[i] == '7':\n",
    "        prediction[i] = 'Instrumental'\n",
    "\n",
    "    elif prediction[i] == '8':\n",
    "        prediction[i] = 'Metal'\n",
    "\n",
    "    elif prediction[i] == '9':\n",
    "        prediction[i] = 'Pop'\n",
    "\n",
    "    elif prediction[i] == '10':\n",
    "        prediction[i] = 'Rock'\n",
    "\n",
    "\n",
    "    i += 1\n",
    "  "
   ]
  },
  {
   "cell_type": "code",
   "execution_count": 197,
   "metadata": {},
   "outputs": [],
   "source": [
    "# Merging \n",
    "\n",
    "test['genre'] = pd.DataFrame(prediction)\n",
    "out = test"
   ]
  },
  {
   "cell_type": "code",
   "execution_count": 198,
   "metadata": {},
   "outputs": [],
   "source": [
    "# Exporting Results\n",
    "out.to_csv('../data/out_alyazidView.csv')"
   ]
  }
 ],
 "metadata": {
  "kernelspec": {
   "display_name": "Python 3.9.12 ('base')",
   "language": "python",
   "name": "python3"
  },
  "language_info": {
   "codemirror_mode": {
    "name": "ipython",
    "version": 3
   },
   "file_extension": ".py",
   "mimetype": "text/x-python",
   "name": "python",
   "nbconvert_exporter": "python",
   "pygments_lexer": "ipython3",
   "version": "3.9.12"
  },
  "orig_nbformat": 4,
  "vscode": {
   "interpreter": {
    "hash": "d4d1e4263499bec80672ea0156c357c1ee493ec2b1c70f0acce89fc37c4a6abe"
   }
  }
 },
 "nbformat": 4,
 "nbformat_minor": 2
}
