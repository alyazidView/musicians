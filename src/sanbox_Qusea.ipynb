{
 "cells": [
  {
   "cell_type": "code",
   "execution_count": 4,
   "metadata": {},
   "outputs": [],
   "source": [
    "# Helper packages\n",
    "import missingno as msno\n",
    "import numpy as np\n",
    "import pandas as pd\n",
    "from plotnine import ggplot, aes, geom_density, geom_line, geom_point, ggtitle\n",
    "\n",
    "# Modeling pre-processing with scikit-learn functionality\n",
    "from sklearn.model_selection import train_test_split\n",
    "from sklearn.compose import TransformedTargetRegressor\n",
    "from sklearn.compose import ColumnTransformer\n",
    "from sklearn.compose import make_column_selector as selector\n",
    "from sklearn.preprocessing import PowerTransformer\n",
    "from sklearn.preprocessing import StandardScaler\n",
    "from sklearn.preprocessing import OneHotEncoder\n",
    "from sklearn.preprocessing import LabelEncoder\n",
    "from sklearn.impute import SimpleImputer\n",
    "from sklearn.impute import KNNImputer\n",
    "from sklearn.feature_selection import VarianceThreshold\n",
    "from sklearn.decomposition import PCA\n",
    "\n",
    "# Modeling pre-processing with non-scikit-learn packages\n",
    "from category_encoders.ordinal import OrdinalEncoder\n",
    "from feature_engine.encoding import RareLabelEncoder\n",
    "\n",
    "# Modeling\n",
    "from sklearn.model_selection import GridSearchCV\n",
    "from sklearn.model_selection import KFold\n",
    "from sklearn.neighbors import KNeighborsRegressor\n",
    "from sklearn.pipeline import Pipeline"
   ]
  },
  {
   "cell_type": "code",
   "execution_count": 8,
   "metadata": {},
   "outputs": [],
   "source": [
    "%%capture\n",
    "data = pd.read_csv('../data/trainClean.csv')\n",
    "\n",
    "# redefine 'class' and 'key' as a categorical variables\n",
    "data.drop(columns=['Unnamed: 0'], inplace=True)\n",
    "data['class'] = data['class'].astype('category')\n",
    "data['key'] = data['key'].astype('category')\n",
    "data['class'].replace([0,1,2,3,4,5,6,7,8,9,10],['Acoustic', 'AltMusic', 'Blues', 'Bollywood', 'Country', 'HipHop', 'Indie', 'Instrumental', 'Metal', 'Pop', 'Rock'])"
   ]
  },
  {
   "cell_type": "code",
   "execution_count": 9,
   "metadata": {},
   "outputs": [
    {
     "name": "stdout",
     "output_type": "stream",
     "text": [
      "<class 'pandas.core.frame.DataFrame'>\n",
      "RangeIndex: 17996 entries, 0 to 17995\n",
      "Data columns (total 17 columns):\n",
      " #   Column              Non-Null Count  Dtype   \n",
      "---  ------              --------------  -----   \n",
      " 0   artist_name         17996 non-null  object  \n",
      " 1   track_name          17996 non-null  object  \n",
      " 2   popularity          17568 non-null  float64 \n",
      " 3   danceability        17996 non-null  float64 \n",
      " 4   energy              17996 non-null  float64 \n",
      " 5   key                 15982 non-null  category\n",
      " 6   loudness            17996 non-null  float64 \n",
      " 7   mode                17996 non-null  int64   \n",
      " 8   speechiness         17996 non-null  float64 \n",
      " 9   acousticness        17996 non-null  float64 \n",
      " 10  instrumentalness    13619 non-null  float64 \n",
      " 11  liveness            17996 non-null  float64 \n",
      " 12  valence             17996 non-null  float64 \n",
      " 13  tempo               17996 non-null  float64 \n",
      " 14  duration_in_min_ms  17996 non-null  float64 \n",
      " 15  time_signature      17996 non-null  int64   \n",
      " 16  class               17996 non-null  category\n",
      "dtypes: category(2), float64(11), int64(2), object(2)\n",
      "memory usage: 2.1+ MB\n"
     ]
    }
   ],
   "source": [
    "data.info()"
   ]
  },
  {
   "cell_type": "code",
   "execution_count": 6,
   "metadata": {},
   "outputs": [],
   "source": [
    "# create train/test split\n",
    "train, test = train_test_split(data, train_size=0.7, random_state=123)\n",
    "\n",
    "x_train = train.drop(\"class\", axis=1)\n",
    "y_train = train[[\"class\"]]\n",
    "\n",
    "X_test = test.drop(\"class\", axis=1)\n",
    "y_test = test[[\"class\"]]"
   ]
  },
  {
   "cell_type": "code",
   "execution_count": null,
   "metadata": {},
   "outputs": [],
   "source": [
    "# remove near-zero variance features\n",
    "nzv = VarianceThreshold(threshold=0.1)"
   ]
  },
  {
   "cell_type": "code",
   "execution_count": null,
   "metadata": {},
   "outputs": [],
   "source": [
    "# Normalizing approach\n",
    "scaler = StandardScaler()\n",
    "\n",
    "# standardize all numeric features\n",
    "std = ColumnTransformer([(\"norm\", scaler, selector(dtype_include=\"number\"))])"
   ]
  },
  {
   "cell_type": "code",
   "execution_count": null,
   "metadata": {},
   "outputs": [],
   "source": [
    "# one-hot encoder\n",
    "encoder = OneHotEncoder()\n",
    "\n",
    "# apply to all categorical features\n",
    "ohe = ColumnTransformer([(\"one-hot\", encoder, selector(dtype_include=\"object\"))])"
   ]
  },
  {
   "cell_type": "code",
   "execution_count": null,
   "metadata": {},
   "outputs": [],
   "source": [
    "# create rare label encoder\n",
    "rare_encoder = RareLabelEncoder(tol=0.01, replace_with=\"other\")\n",
    "\n",
    "# demonstrate how some neighborhoods are now represented by \"other\"\n",
    "rare_encoder.fit_transform(x_train)['artist_name'].unique()"
   ]
  },
  {
   "cell_type": "code",
   "execution_count": null,
   "metadata": {},
   "outputs": [],
   "source": [
    "len(x_train['artist_name'].unique())"
   ]
  },
  {
   "cell_type": "code",
   "execution_count": null,
   "metadata": {},
   "outputs": [],
   "source": [
    "y_pred2 = clf.predict_proba(X_test)"
   ]
  },
  {
   "cell_type": "code",
   "execution_count": null,
   "metadata": {},
   "outputs": [],
   "source": [
    "import catboost"
   ]
  },
  {
   "cell_type": "code",
   "execution_count": null,
   "metadata": {},
   "outputs": [],
   "source": [
    "LR_score = CatBoostClassifier.score(y_pred2,y_test)"
   ]
  }
 ],
 "metadata": {
  "kernelspec": {
   "display_name": "Python 3.10.4 64-bit",
   "language": "python",
   "name": "python3"
  },
  "language_info": {
   "codemirror_mode": {
    "name": "ipython",
    "version": 3
   },
   "file_extension": ".py",
   "mimetype": "text/x-python",
   "name": "python",
   "nbconvert_exporter": "python",
   "pygments_lexer": "ipython3",
   "version": "3.10.4"
  },
  "orig_nbformat": 4,
  "vscode": {
   "interpreter": {
    "hash": "3ad933181bd8a04b432d3370b9dc3b0662ad032c4dfaa4e4f1596c548f763858"
   }
  }
 },
 "nbformat": 4,
 "nbformat_minor": 2
}
